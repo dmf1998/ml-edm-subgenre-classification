{
 "cells": [
  {
   "cell_type": "markdown",
   "id": "3c444bc9",
   "metadata": {},
   "source": [
    "# Notebook to Convert Audio data into Mel-Spectrograms & Save\n",
    "\n",
    "### Saves Mel-Spectrograms to files in a 75:15:15 train:validate:test split\n",
    "### Spectrograms consists of full (2 min song), halves (song split to two 1 minute segments), and quarters (song split into four 30 second segments\n",
    "\n",
    "#### This is done for Big Room House, Drum And Bass, and Techno"
   ]
  },
  {
   "cell_type": "code",
   "execution_count": 1,
   "id": "c5bd18f2",
   "metadata": {},
   "outputs": [],
   "source": [
    "# Visualization\n",
    "import matplotlib.pyplot as plt\n",
    "import seaborn as sns\n",
    "sns.color_palette(\"Blues\", as_cmap=True)\n",
    "\n",
    "# Standard Packages\n",
    "import numpy as np\n",
    "import warnings\n",
    "import pandas as pd\n",
    "import os\n",
    "import shutil\n",
    "import random\n",
    "import time\n",
    "import PIL\n",
    "pd.set_option('display.max_colwidth', None)\n",
    "warnings.filterwarnings(\"ignore\")\n",
    "\n",
    "# ML Libraries\n",
    "from sklearn.model_selection import train_test_split\n",
    "from sklearn.metrics import confusion_matrix, ConfusionMatrixDisplay\n",
    "import keras\n",
    "import tensorflow as tf\n",
    "from tensorflow.keras.models import Model, Sequential, load_model\n",
    "from tensorflow.keras.layers import Input, Conv2D, MaxPooling2D, Flatten, Dense, concatenate\n",
    "from tensorflow.keras.preprocessing.image import ImageDataGenerator\n",
    "\n",
    "\n",
    "#for loading and visualizing audio files\n",
    "import librosa\n",
    "import librosa.display\n",
    "from scipy import signal\n",
    "from scipy.io import wavfile\n",
    "import wave\n",
    "from pydub import AudioSegment\n",
    "\n",
    "#to play audio\n",
    "import IPython.display as ipd\n",
    "\n",
    "random.seed(123)"
   ]
  },
  {
   "cell_type": "markdown",
   "id": "f038dd61",
   "metadata": {},
   "source": [
    "### Getting list of genre_names and setting the audio_fpath variable"
   ]
  },
  {
   "cell_type": "code",
   "execution_count": 9,
   "id": "0bb90526",
   "metadata": {},
   "outputs": [
    {
     "name": "stdout",
     "output_type": "stream",
     "text": [
      "['Breaks', 'BigRoom', 'PsyTrance', 'TechHouse', 'ReggaeDub', 'ElectronicaDowntempo', '.DS_Store', 'IndieDanceNuDisco', 'HardcoreHardTechno', 'Trance', 'Minimal', 'ElectroHouse', 'Dance', 'DrumAndBass', 'HipHop', 'GlitchHop', 'House', 'HardDance', 'ProgressiveHouse', 'FutureHouse', 'FunkRAndB', 'Dubstep', 'DeepHouse', 'Techno']\n"
     ]
    }
   ],
   "source": [
    "audio_fpath = \"data/subgenre_dataset/\"\n",
    "genre_names = os.listdir(audio_fpath)\n",
    "print(genre_names)"
   ]
  },
  {
   "cell_type": "markdown",
   "id": "5268a6c5",
   "metadata": {},
   "source": [
    "### Getting list of file paths for the 3 selected genres"
   ]
  },
  {
   "cell_type": "code",
   "execution_count": 10,
   "id": "640f025a",
   "metadata": {},
   "outputs": [],
   "source": [
    "big_room_file_paths = sorted([audio_fpath + 'BigRoom/' + f for f in os.listdir(audio_fpath + 'BigRoom/') if '.wav' in f])\n",
    "# big_room_file_paths"
   ]
  },
  {
   "cell_type": "code",
   "execution_count": 11,
   "id": "f6190a61",
   "metadata": {},
   "outputs": [],
   "source": [
    "dnb_file_paths = sorted([audio_fpath + 'DrumAndBass/' + f for f in os.listdir(audio_fpath + 'DrumAndBass/') if '.wav' in f])\n",
    "# dnb_file_paths"
   ]
  },
  {
   "cell_type": "code",
   "execution_count": 12,
   "id": "b0916e16",
   "metadata": {},
   "outputs": [],
   "source": [
    "techno_file_paths = sorted([audio_fpath + 'Techno/' + f for f in os.listdir(audio_fpath + 'Techno/') if '.wav' in f])\n",
    "# techno_file_paths"
   ]
  },
  {
   "cell_type": "markdown",
   "id": "24600bc4",
   "metadata": {},
   "source": [
    "### Previewing one song from each genre with ipd"
   ]
  },
  {
   "cell_type": "code",
   "execution_count": null,
   "id": "ce0b1048",
   "metadata": {},
   "outputs": [],
   "source": [
    "ipd.Audio(big_room_file_paths[0], autoplay=True)"
   ]
  },
  {
   "cell_type": "code",
   "execution_count": 8,
   "id": "9dec9c8c",
   "metadata": {},
   "outputs": [],
   "source": [
    "ipd.Audio(dnb_file_paths[0], autoplay=True)"
   ]
  },
  {
   "cell_type": "code",
   "execution_count": 9,
   "id": "c8497c16",
   "metadata": {},
   "outputs": [],
   "source": [
    "ipd.Audio(techno_file_paths[0], autoplay=True)"
   ]
  },
  {
   "cell_type": "markdown",
   "id": "8ee8eda6",
   "metadata": {},
   "source": [
    "## Visualize a mel spectrogram by audio path\n",
    "\n",
    "Saves figure to images folder."
   ]
  },
  {
   "cell_type": "code",
   "execution_count": null,
   "id": "a49014b7",
   "metadata": {},
   "outputs": [],
   "source": [
    "import matplotlib.pyplot as plt\n",
    "from matplotlib.colors import ListedColormap\n",
    "\n",
    "\n",
    "def view_mel_spectrogram(audio_path):\n",
    "    \n",
    "    # In very high quality\n",
    "    \n",
    "    # Load audio file\n",
    "    y, sr = librosa.load(audio_path)          # sr = 22050, mono=True by default\n",
    "    \n",
    "    \n",
    "    ### Set Mel Spectrogram Hyperparameters ###    \n",
    "    n_fft = 8192\n",
    "    hop_length = 128 \n",
    "    n_mels = 512    \n",
    "    fmin = 20\n",
    "    fmax = 11025\n",
    "    \n",
    "    # Compute Mel spectrogram\n",
    "    S = librosa.feature.melspectrogram(y, sr=sr, n_fft=n_fft, hop_length=hop_length, \n",
    "                                       n_mels=n_mels, fmax=fmax, fmin=fmin)\n",
    "    \n",
    "    # Convert to decibels\n",
    "    S_dB = librosa.power_to_db(S, ref=np.max)\n",
    "    \n",
    "    \n",
    "    # Create the figure\n",
    "    fig = plt.figure(figsize=(8,6))\n",
    "    librosa.display.specshow(S_dB, x_axis='time', y_axis='mel') #, cmap=cmap)\n",
    "    plt.xticks([0, 119, 239, 359, 480], ['00s', '30s', '1m 00s', '1m 30s', '2m 00s'])\n",
    "\n",
    "    plt.title('Mel-frequency spectrogram - Big Room House', fontsize=18)\n",
    "\n",
    "    \n",
    "    # Get the axes object associated with the figure\n",
    "    ax = plt.gca()\n",
    "    \n",
    "    # ax.tick_params(axis='both', colors='white')\n",
    "    \n",
    "    # Remove the top and right borders\n",
    "    ax.spines['top'].set_visible(False)\n",
    "    ax.spines['right'].set_visible(False)\n",
    "    ax.spines['bottom'].set_visible(False)\n",
    "    ax.spines['left'].set_visible(False)\n",
    "    \n",
    "    # Set the color of the title and axis labels to white to be placed on dark backgrounds\n",
    "    # ax.set_xlabel('Time (min, sec)', color='white', fontsize=14)\n",
    "    # ax.set_ylabel('Frequency (Hz)', color='white', fontsize=14)\n",
    "    # plt.title('', color='white')    \n",
    "    \n",
    "    cbar = plt.colorbar(format='%+2.0f dB')\n",
    "    # cbar.ax.yaxis.set_tick_params(color='white')\n",
    "    # cbar.outline.set_edgecolor('none')\n",
    "    # for label in cbar.ax.get_yticklabels():\n",
    "    #     label.set_color('white')\n",
    "    \n",
    "    plt.savefig('images/big_room_spectrogram.png', transparent=True, dpi=1200)\n",
    "    \n",
    "    plt.show()\n",
    "\n",
    "\n",
    "view_mel_spectrogram(big_room_file_paths[94])"
   ]
  },
  {
   "cell_type": "markdown",
   "id": "56a35d32",
   "metadata": {},
   "source": [
    "## Create spectrogram dataset from the audio files"
   ]
  },
  {
   "cell_type": "markdown",
   "id": "ee1bfd53",
   "metadata": {},
   "source": [
    "#### Function that converts to spectrogram, saves it to a file with path: ../spectrograms/halves/'genre_name' and plots it in the notebook"
   ]
  },
  {
   "cell_type": "code",
   "execution_count": 10,
   "id": "5285bbbe",
   "metadata": {
    "scrolled": false
   },
   "outputs": [],
   "source": [
    "def save_mel_spectrograms(audio_path):\n",
    "\n",
    "    # Load audio file\n",
    "    y, sr = librosa.load(audio_path)          # sr = 22050, mono=True by default\n",
    "\n",
    "    \n",
    "    ### Set Mel Spectrogram Hyperparameters ###\n",
    "    # Use powers of 2 because it helps with algorithm efficiency\n",
    "    \n",
    "    # Increase n_fft (default 4096) to increase fft window size --> Increase frequency resolution. more time\n",
    "    # Should be smaller than half the sample rate sr (max being 11025 here)\n",
    "    n_fft = 8192\n",
    "    \n",
    "    # Decrease hop_length (default 512) for better time resolution. <= n_fft/2. Center of window 1 at y[t * hop_length]\n",
    "    hop_length = 128          # Smaller value => better time resolution. <= n_fft/2. \n",
    "    \n",
    "    # Increase n_mels (default 128) to increase frequency resolution\n",
    "    n_mels = 512              \n",
    "    \n",
    "    # Frequency range to approximately match human hearing\n",
    "    fmin = 20\n",
    "    fmax = 11025\n",
    "    \n",
    "    # Compute Mel spectrogram\n",
    "    S = librosa.feature.melspectrogram(y, sr=sr, n_fft=n_fft, hop_length=hop_length, \n",
    "                                       n_mels=n_mels, fmax=fmax, fmin=fmin)\n",
    "    \n",
    "    # Convert to decibels\n",
    "    S_dB = librosa.power_to_db(S, ref=np.max)\n",
    "\n",
    "    \n",
    "    ######Display & Save Mel Spectrograms######\n",
    "    \n",
    "    ###Full 2 minutes###\n",
    "    plt.figure(figsize=(6, 6))\n",
    "    librosa.display.specshow(S_dB, sr=sr, n_fft=n_fft, hop_length=hop_length, fmax=fmax, fmin=fmin, cmap='gray_r')\n",
    "    plt.axis('off')\n",
    "    plt.tight_layout()\n",
    "    plt.savefig('../spectrograms/high_res/full/' + audio_path.split('/')[-2] + '/' \n",
    "                + audio_path.split('/')[-1].split('.')[0],  \n",
    "                bbox_inches='tight', pad_inches=0, dpi=1200)\n",
    "        \n",
    "    \n",
    "    ###Cut in half - Two 1 minute images###\n",
    "    window_length_half = S_dB.shape[1]//2             # Width of image to chop up 5169//2 = 2584\n",
    "    prev_half = 0                                     # Beginning of range for each chunk of image\n",
    "    \n",
    "    for x in range(2):    \n",
    "        plt.figure(figsize=(6, 6))\n",
    "        librosa.display.specshow(S_dB[:, prev_half:prev_half + window_length_half], sr=sr, n_fft=n_fft, \n",
    "                                 hop_length=hop_length, fmax=fmax, fmin=fmin, cmap='gray_r')\n",
    "        plt.axis('off')\n",
    "        plt.tight_layout()\n",
    "        plt.savefig('../spectrograms/high_res/halves/' + audio_path.split('/')[-2] + '/' \n",
    "                    + audio_path.split('/')[-1].split('.')[0] + '_half' + str(x+1),  \n",
    "                    bbox_inches='tight', pad_inches=0, dpi=1200)\n",
    "        prev_half += window_length_half\n",
    "    \n",
    "    \n",
    "    ###Cut into quarters - Four 30 second images###\n",
    "    window_length_quarter = S_dB.shape[1]//4             # Width of image to chop up 5169//4 = 1292\n",
    "    prev_quarter = 0                                     # Beginning of range for each chunk of image\n",
    "    \n",
    "    for x in range(4):\n",
    "        plt.figure(figsize=(6, 6))\n",
    "        librosa.display.specshow(S_dB[:, prev_quarter:prev_quarter + window_length_quarter], sr=sr, n_fft=n_fft, \n",
    "                                 hop_length=hop_length, fmax=fmax, fmin=fmin, cmap='gray_r')\n",
    "\n",
    "        plt.axis('off')\n",
    "        plt.tight_layout()\n",
    "        plt.savefig('../spectrograms/high_res/quarters/' + audio_path.split('/')[-2] + '/' \n",
    "                    + audio_path.split('/')[-1].split('.')[0] + '_quarter' + str(x+1),  \n",
    "                    bbox_inches='tight', pad_inches=0, dpi=1200)\n",
    "        prev_quarter += window_length_quarter\n",
    "        \n",
    "    return S_dB\n",
    "\n",
    "\n",
    "# test = save_mel_spectrograms(dnb_file_paths[0])"
   ]
  },
  {
   "cell_type": "markdown",
   "id": "59aaa1c3",
   "metadata": {},
   "source": [
    "#### Loop that creates the image datasets for BigRoom, DrumAndBass, and Techno\n",
    "\n",
    "This will crash the kernel if it loops for 24+ iterations because it is saving too much image data to memory. Need to fix later"
   ]
  },
  {
   "cell_type": "code",
   "execution_count": 12,
   "id": "1690699e",
   "metadata": {},
   "outputs": [],
   "source": [
    "# start_time = time.time()\n",
    "# for i, (b, d, t) in enumerate(zip(big_room_file_paths, dnb_file_paths, techno_file_paths)):\n",
    "#     iter_start_time = time.time()\n",
    "#     save_mel_spectrograms(b)\n",
    "#     save_mel_spectrograms(d)\n",
    "#     save_mel_spectrograms(t)\n",
    "#     print('Iteration ' + str(i) + ': ' + str(time.time() - iter_start_time))\n",
    "# print(time.time() - start_time)"
   ]
  },
  {
   "cell_type": "markdown",
   "id": "5c56c091",
   "metadata": {},
   "source": [
    "## Train, Validate, Test Split - Full"
   ]
  },
  {
   "cell_type": "code",
   "execution_count": 29,
   "id": "584aea62",
   "metadata": {},
   "outputs": [],
   "source": [
    "# Set the root directory containing the subdirectories for each class\n",
    "root_dir = '../spectrograms/high_res/full/'\n",
    "\n",
    "# Create the train, validation, and test directories\n",
    "train_dir = root_dir + 'train/'\n",
    "val_dir = root_dir + 'validate/'\n",
    "test_dir = root_dir + 'test/'"
   ]
  },
  {
   "cell_type": "code",
   "execution_count": 30,
   "id": "1e3a1162",
   "metadata": {},
   "outputs": [],
   "source": [
    "###### DO NOT RE-RUN WITHOUT DELETING PREVIOUS DIRECTORIES ######\n",
    "\n",
    "\n",
    "# Set the names of the subdirectories for each class\n",
    "class_names = ['BigRoom', 'DrumAndBass', 'Techno']\n",
    "\n",
    "# Set the proportion of images to use for train, validation, and test\n",
    "train_prop = 0.7\n",
    "val_prop = 0.15\n",
    "test_prop = 0.15\n",
    "\n",
    "os.makedirs(train_dir, exist_ok=True)\n",
    "os.makedirs(val_dir, exist_ok=True)\n",
    "os.makedirs(test_dir, exist_ok=True)\n",
    "\n",
    "# Loop over each class\n",
    "for class_name in class_names:\n",
    "    # Create subdirectories for each class in the train, validation, and test directories\n",
    "    os.makedirs(os.path.join(train_dir, class_name), exist_ok=True)\n",
    "    os.makedirs(os.path.join(val_dir, class_name), exist_ok=True)\n",
    "    os.makedirs(os.path.join(test_dir, class_name), exist_ok=True)\n",
    "\n",
    "    # Get the list of image filenames for the current class\n",
    "    image_filenames = [x for x in os.listdir(os.path.join(root_dir, class_name)) if '.png' in x]\n",
    "\n",
    "#     # Shuffle the list of image filenames - NOT SHUFFLING FOR NOW - USE SEED IF SO \n",
    "    \n",
    "    random.shuffle(image_filenames)\n",
    "\n",
    "    # Split the image filenames into train, validation, and test sets\n",
    "    num_images = len(image_filenames)\n",
    "    num_train = int(num_images * train_prop)\n",
    "    num_val = int(num_images * val_prop)\n",
    "    num_test = int(num_images * test_prop)\n",
    "\n",
    "    train_filenames = image_filenames[:num_train]\n",
    "    val_filenames = image_filenames[num_train:num_train+num_val]\n",
    "    test_filenames = image_filenames[num_train+num_val:]\n",
    "\n",
    "    # Copy the images to the appropriate train, validation, or test directory\n",
    "    for filename in train_filenames:\n",
    "        src_path = os.path.join(root_dir, class_name, filename)\n",
    "        dest_path = os.path.join(train_dir, class_name, filename)\n",
    "        shutil.copy(src_path, dest_path)\n",
    "\n",
    "    for filename in val_filenames:\n",
    "        src_path = os.path.join(root_dir, class_name, filename)\n",
    "        dest_path = os.path.join(val_dir, class_name, filename)\n",
    "        shutil.copy(src_path, dest_path)\n",
    "\n",
    "    for filename in test_filenames:\n",
    "        src_path = os.path.join(root_dir, class_name, filename)\n",
    "        dest_path = os.path.join(test_dir, class_name, filename)\n",
    "        shutil.copy(src_path, dest_path)\n"
   ]
  },
  {
   "cell_type": "markdown",
   "id": "667d61d3",
   "metadata": {},
   "source": [
    "## Train, Validate, Test Split - Halves"
   ]
  },
  {
   "cell_type": "code",
   "execution_count": 31,
   "id": "86c97123",
   "metadata": {},
   "outputs": [],
   "source": [
    "# Set the root directory containing the subdirectories for each class\n",
    "root_dir = '../spectrograms/high_res/halves/'\n",
    "\n",
    "# Create the train, validation, and test directories\n",
    "train_dir = root_dir + 'train/'\n",
    "val_dir = root_dir + 'validate/'\n",
    "test_dir = root_dir + 'test/'"
   ]
  },
  {
   "cell_type": "code",
   "execution_count": 32,
   "id": "a9933cab",
   "metadata": {},
   "outputs": [],
   "source": [
    "###### DO NOT RE-RUN WITHOUT DELETING PREVIOUS DIRECTORIES ######\n",
    "\n",
    "\n",
    "# Set the names of the subdirectories for each class\n",
    "class_names = ['BigRoom', 'DrumAndBass', 'Techno']\n",
    "\n",
    "# Set the proportion of images to use for train, validation, and test\n",
    "train_prop = 0.7\n",
    "val_prop = 0.15\n",
    "test_prop = 0.15\n",
    "## Train, Validate, Test Split - Halves\n",
    "os.makedirs(train_dir, exist_ok=True)\n",
    "os.makedirs(val_dir, exist_ok=True)\n",
    "os.makedirs(test_dir, exist_ok=True)\n",
    "\n",
    "# Loop over each class\n",
    "for class_name in class_names:\n",
    "    # Create subdirectories for each class in the train, validation, and test directories\n",
    "    os.makedirs(os.path.join(train_dir, class_name), exist_ok=True)\n",
    "    os.makedirs(os.path.join(val_dir, class_name), exist_ok=True)\n",
    "    os.makedirs(os.path.join(test_dir, class_name), exist_ok=True)\n",
    "\n",
    "    # Get the list of image filenames for the current class\n",
    "    image_filenames = [x for x in os.listdir(os.path.join(root_dir, class_name)) if '.png' in x]\n",
    "\n",
    "#     # Shuffle the list of image filenames - NOT SHUFFLING FOR NOW - USE SEED IF SO \n",
    "    \n",
    "    random.shuffle(image_filenames)\n",
    "\n",
    "    # Split the image filenames into train, validation, and test sets\n",
    "    num_images = len(image_filenames)\n",
    "    num_train = int(num_images * train_prop)\n",
    "    num_val = int(num_images * val_prop)\n",
    "    num_test = int(num_images * test_prop)\n",
    "\n",
    "    train_filenames = image_filenames[:num_train]\n",
    "    val_filenames = image_filenames[num_train:num_train+num_val]\n",
    "    test_filenames = image_filenames[num_train+num_val:]\n",
    "\n",
    "    # Copy the images to the appropriate train, validation, or test directory\n",
    "    for filename in train_filenames:\n",
    "        src_path = os.path.join(root_dir, class_name, filename)\n",
    "        dest_path = os.path.join(train_dir, class_name, filename)\n",
    "        shutil.copy(src_path, dest_path)\n",
    "\n",
    "    for filename in val_filenames:\n",
    "        src_path = os.path.join(root_dir, class_name, filename)\n",
    "        dest_path = os.path.join(val_dir, class_name, filename)\n",
    "        shutil.copy(src_path, dest_path)\n",
    "\n",
    "    for filename in test_filenames:\n",
    "        src_path = os.path.join(root_dir, class_name, filename)\n",
    "        dest_path = os.path.join(test_dir, class_name, filename)\n",
    "        shutil.copy(src_path, dest_path)\n"
   ]
  },
  {
   "cell_type": "markdown",
   "id": "efb2a846",
   "metadata": {},
   "source": [
    "## Train, Validate, Test Split - Quarters"
   ]
  },
  {
   "cell_type": "code",
   "execution_count": 33,
   "id": "ced4e8df",
   "metadata": {},
   "outputs": [],
   "source": [
    "# Set the root directory containing the subdirectories for each class\n",
    "root_dir = '../spectrograms/high_res/quarters/'\n",
    "\n",
    "# Create the train, validation, and test directories\n",
    "train_dir = root_dir + 'train/'\n",
    "val_dir = root_dir + 'validate/'\n",
    "test_dir = root_dir + 'test/'"
   ]
  },
  {
   "cell_type": "code",
   "execution_count": 34,
   "id": "67abc440",
   "metadata": {},
   "outputs": [],
   "source": [
    "###### DO NOT RE-RUN WITHOUT DELETING PREVIOUS DIRECTORIES ######\n",
    "\n",
    "\n",
    "# Set the names of the subdirectories for each class\n",
    "class_names = ['BigRoom', 'DrumAndBass', 'Techno']\n",
    "\n",
    "# Set the proportion of images to use for train, validation, and test\n",
    "train_prop = 0.7\n",
    "val_prop = 0.15\n",
    "test_prop = 0.15\n",
    "## Train, Validate, Test Split - Halves\n",
    "os.makedirs(train_dir, exist_ok=True)\n",
    "os.makedirs(val_dir, exist_ok=True)\n",
    "os.makedirs(test_dir, exist_ok=True)\n",
    "\n",
    "# Loop over each class\n",
    "for class_name in class_names:\n",
    "    # Create subdirectories for each class in the train, validation, and test directories\n",
    "    os.makedirs(os.path.join(train_dir, class_name), exist_ok=True)\n",
    "    os.makedirs(os.path.join(val_dir, class_name), exist_ok=True)\n",
    "    os.makedirs(os.path.join(test_dir, class_name), exist_ok=True)\n",
    "\n",
    "    # Get the list of image filenames for the current class\n",
    "    image_filenames = [x for x in os.listdir(os.path.join(root_dir, class_name)) if '.png' in x]\n",
    "\n",
    "#     # Shuffle the list of image filenames - NOT SHUFFLING FOR NOW - USE SEED IF SO \n",
    "    \n",
    "    random.shuffle(image_filenames)\n",
    "\n",
    "    # Split the image filenames into train, validation, and test sets\n",
    "    num_images = len(image_filenames)\n",
    "    num_train = int(num_images * train_prop)\n",
    "    num_val = int(num_images * val_prop)\n",
    "    num_test = int(num_images * test_prop)\n",
    "\n",
    "    train_filenames = image_filenames[:num_train]\n",
    "    val_filenames = image_filenames[num_train:num_train+num_val]\n",
    "    test_filenames = image_filenames[num_train+num_val:]\n",
    "\n",
    "    # Copy the images to the appropriate train, validation, or test directory\n",
    "    for filename in train_filenames:\n",
    "        src_path = os.path.join(root_dir, class_name, filename)\n",
    "        dest_path = os.path.join(train_dir, class_name, filename)\n",
    "        shutil.copy(src_path, dest_path)\n",
    "\n",
    "    for filename in val_filenames:\n",
    "        src_path = os.path.join(root_dir, class_name, filename)\n",
    "        dest_path = os.path.join(val_dir, class_name, filename)\n",
    "        shutil.copy(src_path, dest_path)\n",
    "\n",
    "    for filename in test_filenames:\n",
    "        src_path = os.path.join(root_dir, class_name, filename)\n",
    "        dest_path = os.path.join(test_dir, class_name, filename)\n",
    "        shutil.copy(src_path, dest_path)\n"
   ]
  }
 ],
 "metadata": {
  "kernelspec": {
   "display_name": "Python 3 (ipykernel)",
   "language": "python",
   "name": "python3"
  },
  "language_info": {
   "codemirror_mode": {
    "name": "ipython",
    "version": 3
   },
   "file_extension": ".py",
   "mimetype": "text/x-python",
   "name": "python",
   "nbconvert_exporter": "python",
   "pygments_lexer": "ipython3",
   "version": "3.8.16"
  }
 },
 "nbformat": 4,
 "nbformat_minor": 5
}
