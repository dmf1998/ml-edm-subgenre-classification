{
 "cells": [
  {
   "cell_type": "markdown",
   "id": "3c444bc9",
   "metadata": {},
   "source": [
    "# Notebook to convert the Audio data into spectrograms and folder splits\n",
    "## To be used for artificially expanding the dataset\n",
    "\n",
    "- Converting the the audio files to square Mel-spectrograms, and saving in spectrograms/(BigRoom, DrumAndBass, Techno)\n",
    "- Splitting into train, validate, test folders"
   ]
  },
  {
   "cell_type": "code",
   "execution_count": null,
   "id": "c5bd18f2",
   "metadata": {},
   "outputs": [],
   "source": [
    "# Visualization\n",
    "import matplotlib.pyplot as plt\n",
    "import seaborn as sns\n",
    "sns.color_palette(\"Blues\", as_cmap=True)\n",
    "\n",
    "# Standard Packages\n",
    "import numpy as np\n",
    "import warnings\n",
    "import pandas as pd\n",
    "import os\n",
    "import shutil\n",
    "import random\n",
    "import time\n",
    "import PIL\n",
    "pd.set_option('display.max_colwidth', None)\n",
    "warnings.filterwarnings(\"ignore\")\n",
    "\n",
    "# ML Libraries\n",
    "from sklearn.model_selection import train_test_split\n",
    "from sklearn.metrics import confusion_matrix, ConfusionMatrixDisplay\n",
    "import keras\n",
    "import tensorflow as tf\n",
    "from tensorflow.keras.models import Model, Sequential, load_model\n",
    "from tensorflow.keras.layers import Input, Conv2D, MaxPooling2D, Flatten, Dense, concatenate\n",
    "from tensorflow.keras.preprocessing.image import ImageDataGenerator\n",
    "\n",
    "\n",
    "#for loading and visualizing audio files\n",
    "import librosa\n",
    "import librosa.display\n",
    "from scipy import signal\n",
    "from scipy.io import wavfile\n",
    "import wave\n",
    "from pydub import AudioSegment\n",
    "\n",
    "#to play audio\n",
    "import IPython.display as ipd\n",
    "\n",
    "random.seed(123)"
   ]
  },
  {
   "cell_type": "markdown",
   "id": "f038dd61",
   "metadata": {},
   "source": [
    "### Getting list of genre_names and setting the audio_fpath variable"
   ]
  },
  {
   "cell_type": "code",
   "execution_count": null,
   "id": "0bb90526",
   "metadata": {},
   "outputs": [],
   "source": [
    "audio_fpath = \"../data/subgenre_dataset/\"\n",
    "genre_names = os.listdir(audio_fpath)\n",
    "print(genre_names)"
   ]
  },
  {
   "cell_type": "markdown",
   "id": "5268a6c5",
   "metadata": {},
   "source": [
    "### Getting list of file paths for the 3 selected genres"
   ]
  },
  {
   "cell_type": "code",
   "execution_count": null,
   "id": "640f025a",
   "metadata": {},
   "outputs": [],
   "source": [
    "big_room_file_paths = sorted([audio_fpath + 'BigRoom/' + f for f in os.listdir(audio_fpath + 'BigRoom/') if '.wav' in f])\n",
    "# big_room_file_paths"
   ]
  },
  {
   "cell_type": "code",
   "execution_count": null,
   "id": "f6190a61",
   "metadata": {},
   "outputs": [],
   "source": [
    "dnb_file_paths = sorted([audio_fpath + 'DrumAndBass/' + f for f in os.listdir(audio_fpath + 'DrumAndBass/') if '.wav' in f])\n",
    "# dnb_file_paths"
   ]
  },
  {
   "cell_type": "code",
   "execution_count": null,
   "id": "b0916e16",
   "metadata": {},
   "outputs": [],
   "source": [
    "techno_file_paths = sorted([audio_fpath + 'Techno/' + f for f in os.listdir(audio_fpath + 'Techno/') if '.wav' in f])\n",
    "# techno_file_paths"
   ]
  },
  {
   "cell_type": "markdown",
   "id": "24600bc4",
   "metadata": {},
   "source": [
    "### Previewing one song from each genre with ipd"
   ]
  },
  {
   "cell_type": "code",
   "execution_count": null,
   "id": "ce0b1048",
   "metadata": {},
   "outputs": [],
   "source": [
    "# ipd.Audio(big_room_file_paths[0], autoplay=True)"
   ]
  },
  {
   "cell_type": "code",
   "execution_count": null,
   "id": "9dec9c8c",
   "metadata": {},
   "outputs": [],
   "source": [
    "# ipd.Audio(dnb_file_paths[0], autoplay=True)"
   ]
  },
  {
   "cell_type": "code",
   "execution_count": null,
   "id": "c8497c16",
   "metadata": {},
   "outputs": [],
   "source": [
    "# ipd.Audio(techno_file_paths[0], autoplay=True)"
   ]
  },
  {
   "cell_type": "markdown",
   "id": "56a35d32",
   "metadata": {},
   "source": [
    "## Create spectrogram dataset from the audio files"
   ]
  },
  {
   "cell_type": "markdown",
   "id": "ee1bfd53",
   "metadata": {},
   "source": [
    "#### Function that converts to spectrogram, saves it to a file with path: ../spectrograms/halves/'genre_name' and plots it in the notebook"
   ]
  },
  {
   "cell_type": "code",
   "execution_count": null,
   "id": "5285bbbe",
   "metadata": {
    "scrolled": false
   },
   "outputs": [],
   "source": [
    "def save_two_mel_spectrograms(audio_path):\n",
    "\n",
    "    # Load audio file\n",
    "    y, sr = librosa.load(audio_path)\n",
    "\n",
    "    # Compute Mel spectrogram\n",
    "    n_fft = 4096            # Increase this to increase fft window size --> Increase resolution. More processing time\n",
    "    hop_length = 512\n",
    "    n_mels = 128\n",
    "    S = librosa.feature.melspectrogram(y, sr=sr, n_fft=n_fft, hop_length=hop_length, n_mels=n_mels)\n",
    "\n",
    "    # Convert to decibels\n",
    "    S_dB = librosa.power_to_db(S, ref=np.max)\n",
    "\n",
    "    # Display & Save Mel spectrogram\n",
    "    window_length = S_dB.shape[1]//2             # Width of image to chop up 5169//4 = 1292\n",
    "    prev = 0\n",
    "    for x in range(2):\n",
    "        plt.figure(figsize=(6, 6))\n",
    "        librosa.display.specshow(S_dB[:, prev:prev + window_length], sr=sr, hop_length=hop_length, cmap='gray_r')\n",
    "        prev += window_length\n",
    "        plt.axis('off')\n",
    "        plt.tight_layout()\n",
    "        plt.savefig('../spectrograms/halves/' + audio_path.split('/')[-2] + '/' \n",
    "                    + audio_path.split('/')[-1].split('.')[0] + '_half' + str(x+1),  \n",
    "                    bbox_inches='tight', pad_inches=0, dpi=1200)\n",
    "    \n",
    "    # To view colorbar and axes\n",
    "    # librosa.display.specshow(S_dB, x_axis='time', y_axis='mel', sr=sr, hop_length=hop_length)\n",
    "    # plt.colorbar(format='%+2.0f dB')\n",
    "    # plt.title('Mel-frequency spectrogram')\n",
    "    # plt.show()\n",
    "\n",
    "# save_two_mel_spectrograms(techno_file_paths[0])\n",
    "\n",
    "\n",
    "# y, sr = librosa.load(techno_file_paths[0])\n",
    "# n_fft = 4096            # Increase this to increase fft window size --> Increase resolution. More processing time\n",
    "# hop_length = 512\n",
    "# n_mels = 128\n",
    "# S = librosa.feature.melspectrogram(y, sr=sr, n_fft=n_fft, hop_length=hop_length, n_mels=n_mels)\n",
    "# S_dB = librosa.power_to_db(S, ref=np.max)\n",
    "# plt.figure(figsize=(6, 6))\n",
    "# librosa.display.specshow(S_dB, sr=sr, hop_length=hop_length, cmap='gray_r')\n",
    "# plt.axis('off')\n",
    "# plt.tight_layout()"
   ]
  },
  {
   "cell_type": "markdown",
   "id": "59aaa1c3",
   "metadata": {},
   "source": [
    "#### Loop that creates the image datasets for BigRoom, DrumAndBass, and Techno"
   ]
  },
  {
   "cell_type": "code",
   "execution_count": null,
   "id": "1690699e",
   "metadata": {},
   "outputs": [],
   "source": [
    "start_time = time.time()\n",
    "for i, (b, d, t) in enumerate(zip(big_room_file_paths, dnb_file_paths, techno_file_paths)):\n",
    "    iter_start_time = time.time()\n",
    "    save_two_mel_spectrograms(b)\n",
    "    save_two_mel_spectrograms(d)\n",
    "    save_two_mel_spectrograms(t)\n",
    "    print('Iteration ' + str(i) + ': ' + str(time.time() - iter_start_time))\n",
    "print(time.time() - start_time)"
   ]
  },
  {
   "cell_type": "markdown",
   "id": "5c56c091",
   "metadata": {},
   "source": [
    "## Train, Validate, Test Split"
   ]
  },
  {
   "cell_type": "code",
   "execution_count": null,
   "id": "86c97123",
   "metadata": {},
   "outputs": [],
   "source": [
    "# Set the root directory containing the subdirectories for each class\n",
    "root_dir = '../spectrograms/halves/'\n",
    "\n",
    "# Create the train, validation, and test directories\n",
    "train_dir = root_dir + 'train/'\n",
    "val_dir = root_dir + 'validate/'\n",
    "test_dir = root_dir + 'test/'"
   ]
  },
  {
   "cell_type": "code",
   "execution_count": null,
   "id": "a9933cab",
   "metadata": {},
   "outputs": [],
   "source": [
    "###### DO NOT RE-RUN WITHOUT DELETING PREVIOUS DIRECTORIES ######\n",
    "\n",
    "\n",
    "# Set the names of the subdirectories for each class\n",
    "class_names = ['BigRoom', 'DrumAndBass', 'Techno']\n",
    "\n",
    "# Set the proportion of images to use for train, validation, and test\n",
    "train_prop = 0.8\n",
    "val_prop = 0.1\n",
    "test_prop = 0.1\n",
    "\n",
    "os.makedirs(train_dir, exist_ok=True)\n",
    "os.makedirs(val_dir, exist_ok=True)\n",
    "os.makedirs(test_dir, exist_ok=True)\n",
    "\n",
    "# Loop over each class\n",
    "for class_name in class_names:\n",
    "    # Create subdirectories for each class in the train, validation, and test directories\n",
    "    os.makedirs(os.path.join(train_dir, class_name), exist_ok=True)\n",
    "    os.makedirs(os.path.join(val_dir, class_name), exist_ok=True)\n",
    "    os.makedirs(os.path.join(test_dir, class_name), exist_ok=True)\n",
    "\n",
    "    # Get the list of image filenames for the current class\n",
    "    image_filenames = os.listdir(os.path.join(root_dir, class_name))\n",
    "\n",
    "#     # Shuffle the list of image filenames - NOT SHUFFLING FOR NOW - USE SEED IF SO \n",
    "    \n",
    "    random.shuffle(image_filenames)\n",
    "\n",
    "    # Split the image filenames into train, validation, and test sets\n",
    "    num_images = len(image_filenames)\n",
    "    num_train = int(num_images * train_prop)\n",
    "    num_val = int(num_images * val_prop)\n",
    "    num_test = int(num_images * test_prop)\n",
    "\n",
    "    train_filenames = image_filenames[:num_train]\n",
    "    val_filenames = image_filenames[num_train:num_train+num_val]\n",
    "    test_filenames = image_filenames[num_train+num_val:]\n",
    "\n",
    "    # Copy the images to the appropriate train, validation, or test directory\n",
    "    for filename in train_filenames:\n",
    "        src_path = os.path.join(root_dir, class_name, filename)\n",
    "        dest_path = os.path.join(train_dir, class_name, filename)\n",
    "        shutil.copy(src_path, dest_path)\n",
    "\n",
    "    for filename in val_filenames:\n",
    "        src_path = os.path.join(root_dir, class_name, filename)\n",
    "        dest_path = os.path.join(val_dir, class_name, filename)\n",
    "        shutil.copy(src_path, dest_path)\n",
    "\n",
    "    for filename in test_filenames:\n",
    "        src_path = os.path.join(root_dir, class_name, filename)\n",
    "        dest_path = os.path.join(test_dir, class_name, filename)\n",
    "        shutil.copy(src_path, dest_path)\n"
   ]
  },
  {
   "cell_type": "markdown",
   "id": "c83547ce",
   "metadata": {},
   "source": [
    "# Increasing dataset size\n",
    "\n",
    "Methodology\n",
    "- Chopping up a song into pieces\n",
    "- Maybe different window for Fourier transforms? Do research on this\n",
    "- Just the drops?"
   ]
  },
  {
   "cell_type": "code",
   "execution_count": null,
   "id": "4c649df0",
   "metadata": {},
   "outputs": [],
   "source": []
  }
 ],
 "metadata": {
  "kernelspec": {
   "display_name": "Python 3 (ipykernel)",
   "language": "python",
   "name": "python3"
  },
  "language_info": {
   "codemirror_mode": {
    "name": "ipython",
    "version": 3
   },
   "file_extension": ".py",
   "mimetype": "text/x-python",
   "name": "python",
   "nbconvert_exporter": "python",
   "pygments_lexer": "ipython3",
   "version": "3.8.16"
  }
 },
 "nbformat": 4,
 "nbformat_minor": 5
}
