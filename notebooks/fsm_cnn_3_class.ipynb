{
 "cells": [
  {
   "cell_type": "markdown",
   "id": "3c444bc9",
   "metadata": {},
   "source": [
    "# Audio File EDA, Image Creation, Pre-processing, FSM\n",
    "\n",
    "- Converting the the audio files to square Mel-spectrograms, and saving in spectrograms/(BigRoom, DrumAndBass, Techno)\n",
    "- Applying pre-processing\n",
    "- FSM CNN with TensorFlow"
   ]
  },
  {
   "cell_type": "code",
   "execution_count": 1,
   "id": "c5bd18f2",
   "metadata": {},
   "outputs": [],
   "source": [
    "# Visualization\n",
    "import matplotlib.pyplot as plt\n",
    "import seaborn as sns\n",
    "sns.color_palette(\"Blues\", as_cmap=True)\n",
    "\n",
    "# Standard Packages\n",
    "import numpy as np\n",
    "import warnings\n",
    "import pandas as pd\n",
    "import os\n",
    "import shutil\n",
    "import random\n",
    "import time\n",
    "import PIL\n",
    "pd.set_option('display.max_colwidth', None)\n",
    "warnings.filterwarnings(\"ignore\")\n",
    "\n",
    "# ML Libraries\n",
    "from sklearn.model_selection import train_test_split\n",
    "from sklearn.metrics import confusion_matrix, ConfusionMatrixDisplay, accuracy_score\n",
    "import keras\n",
    "import tensorflow as tf\n",
    "from tensorflow.keras.models import Model, Sequential, load_model\n",
    "from tensorflow.keras.layers import Input, Conv2D, MaxPooling2D, Flatten, Dense, concatenate\n",
    "from tensorflow.keras.preprocessing.image import ImageDataGenerator\n",
    "\n",
    "\n",
    "#for loading and visualizing audio files\n",
    "import librosa\n",
    "import librosa.display\n",
    "from scipy import signal\n",
    "from scipy.io import wavfile\n",
    "import wave\n",
    "\n",
    "#to play audio\n",
    "import IPython.display as ipd"
   ]
  },
  {
   "cell_type": "markdown",
   "id": "f038dd61",
   "metadata": {},
   "source": [
    "### Getting list of genre_names and setting the audio_fpath variable"
   ]
  },
  {
   "cell_type": "code",
   "execution_count": 2,
   "id": "0bb90526",
   "metadata": {},
   "outputs": [
    {
     "name": "stdout",
     "output_type": "stream",
     "text": [
      "['Breaks', 'BigRoom', 'PsyTrance', 'TechHouse', 'ReggaeDub', 'ElectronicaDowntempo', '.DS_Store', 'IndieDanceNuDisco', 'HardcoreHardTechno', 'Trance', 'Minimal', 'ElectroHouse', 'Dance', 'DrumAndBass', 'HipHop', 'GlitchHop', 'House', 'HardDance', 'ProgressiveHouse', 'FutureHouse', 'FunkRAndB', 'Dubstep', 'DeepHouse', 'Techno']\n"
     ]
    }
   ],
   "source": [
    "audio_fpath = \"../data/subgenre_dataset/\"\n",
    "genre_names = os.listdir(audio_fpath)\n",
    "print(genre_names)"
   ]
  },
  {
   "cell_type": "markdown",
   "id": "5268a6c5",
   "metadata": {},
   "source": [
    "### Getting list of file paths for the 3 selected genres"
   ]
  },
  {
   "cell_type": "code",
   "execution_count": 3,
   "id": "640f025a",
   "metadata": {},
   "outputs": [],
   "source": [
    "big_room_file_paths = [audio_fpath + 'BigRoom/' + f for f in os.listdir(audio_fpath + 'BigRoom/') if '.wav' in f]\n",
    "# big_room_file_paths"
   ]
  },
  {
   "cell_type": "code",
   "execution_count": 4,
   "id": "f6190a61",
   "metadata": {},
   "outputs": [],
   "source": [
    "dnb_file_paths = [audio_fpath + 'DrumAndBass/' + f for f in os.listdir(audio_fpath + 'DrumAndBass/') if '.wav' in f]\n",
    "# dnb_file_paths"
   ]
  },
  {
   "cell_type": "code",
   "execution_count": 5,
   "id": "b0916e16",
   "metadata": {},
   "outputs": [],
   "source": [
    "techno_file_paths = [audio_fpath + 'Techno/' + f for f in os.listdir(audio_fpath + 'Techno/') if '.wav' in f]\n",
    "# techno_file_paths"
   ]
  },
  {
   "cell_type": "markdown",
   "id": "13a06fd5",
   "metadata": {},
   "source": [
    "## Image pre-processing\n",
    "\n",
    "### Data has already been train, validate, test split\n",
    "\n",
    "#### We use Generators because we want to be able to expand this to larger datasets\n",
    "This means we need to use fit_generator and predict_generator functions during training and testing"
   ]
  },
  {
   "cell_type": "code",
   "execution_count": 6,
   "id": "86c97123",
   "metadata": {},
   "outputs": [],
   "source": [
    "# Setting batch size to 1/10 the size of the dataset. Image width and height already loads in as 256x256\n",
    "\n",
    "batch_size = 30\n",
    "img_height = 256\n",
    "img_width = 256\n",
    "num_channels = 1  # It is grayscale. RGB would be 3\n",
    "\n",
    "\n",
    "# Set the root directory containing the subdirectories for each class\n",
    "root_dir = '../spectrograms/'\n",
    "\n",
    "# Create the train, validation, and test directories\n",
    "train_dir = root_dir + 'train/'\n",
    "val_dir = root_dir + 'validate/'\n",
    "test_dir = root_dir + 'test/'"
   ]
  },
  {
   "cell_type": "markdown",
   "id": "6d0cf194",
   "metadata": {},
   "source": [
    "#### Without rescaling"
   ]
  },
  {
   "cell_type": "code",
   "execution_count": 7,
   "id": "79be0d1a",
   "metadata": {},
   "outputs": [
    {
     "name": "stdout",
     "output_type": "stream",
     "text": [
      "Found 240 images belonging to 3 classes.\n",
      "Found 30 images belonging to 3 classes.\n",
      "Found 30 images belonging to 3 classes.\n"
     ]
    }
   ],
   "source": [
    "# Create data generators for the train, validation, and test sets\n",
    "\n",
    "# Need to look into the rescale value. This is the scaling used for color images. Should it be different for grayscale?\n",
    "\n",
    "train_data_gen = ImageDataGenerator().flow_from_directory(\n",
    "        directory=train_dir,\n",
    "        target_size=(img_height, img_width),\n",
    "        color_mode='grayscale',\n",
    "        batch_size=batch_size,\n",
    "        class_mode='categorical')\n",
    "\n",
    "validation_data_gen = ImageDataGenerator().flow_from_directory(\n",
    "        directory=val_dir,\n",
    "        target_size=(img_height, img_width),\n",
    "        color_mode='grayscale',\n",
    "        batch_size=batch_size,\n",
    "        class_mode='categorical')\n",
    "\n",
    "test_data_gen = ImageDataGenerator().flow_from_directory(\n",
    "        directory=test_dir,\n",
    "        target_size=(img_height, img_width),\n",
    "        color_mode='grayscale',\n",
    "        batch_size=batch_size,\n",
    "        class_mode='categorical')"
   ]
  },
  {
   "cell_type": "markdown",
   "id": "a87fb7c4",
   "metadata": {},
   "source": [
    "#### With Re-scaling"
   ]
  },
  {
   "cell_type": "code",
   "execution_count": 8,
   "id": "d2a3473c",
   "metadata": {},
   "outputs": [],
   "source": [
    "# # Create data generators for the train, validation, and test sets\n",
    "\n",
    "# # Need to look into the rescale value. This is the scaling used for color images. Should it be different for grayscale?\n",
    "\n",
    "# train_data_gen = ImageDataGenerator(rescale=1./255).flow_from_directory(\n",
    "#         directory=train_dir,\n",
    "#         target_size=(img_height, img_width),\n",
    "#         color_mode='grayscale',\n",
    "#         batch_size=batch_size,\n",
    "#         class_mode='categorical')\n",
    "\n",
    "# validation_data_gen = ImageDataGenerator(rescale=1./255).flow_from_directory(\n",
    "#         directory=val_dir,\n",
    "#         target_size=(img_height, img_width),\n",
    "#         color_mode='grayscale',\n",
    "#         batch_size=batch_size,\n",
    "#         class_mode='categorical')\n",
    "\n",
    "# test_data_gen = ImageDataGenerator(rescale=1./255).flow_from_directory(\n",
    "#         directory=test_dir,\n",
    "#         target_size=(img_height, img_width),\n",
    "#         color_mode='grayscale',\n",
    "#         batch_size=batch_size,\n",
    "#         class_mode='categorical')"
   ]
  },
  {
   "cell_type": "markdown",
   "id": "3ad39720",
   "metadata": {},
   "source": [
    "## FIRST FSM"
   ]
  },
  {
   "cell_type": "code",
   "execution_count": 9,
   "id": "a6d9dbb1",
   "metadata": {},
   "outputs": [],
   "source": [
    "lr = 1e-3\n",
    "stride = 2\n",
    "padding = 'same'     # Temporary padding selection - STILL NEED TO IMPLEMENT\n",
    "kernel_size = (3, 3)"
   ]
  },
  {
   "cell_type": "code",
   "execution_count": 10,
   "id": "2e435993",
   "metadata": {},
   "outputs": [],
   "source": [
    "# Define the CNN model\n",
    "model = Sequential([\n",
    "    Conv2D(32, (3, 3), activation='relu', input_shape=(img_height, img_width, num_channels)),\n",
    "    MaxPooling2D(pool_size=(2, 2)),\n",
    "    Conv2D(64, (3, 3), activation='relu'),\n",
    "    MaxPooling2D(pool_size=(2, 2)),\n",
    "    Flatten(),\n",
    "    Dense(128, activation='relu'),\n",
    "    Dense(3, activation='softmax')\n",
    "])"
   ]
  },
  {
   "cell_type": "code",
   "execution_count": 11,
   "id": "4a747c35",
   "metadata": {},
   "outputs": [],
   "source": [
    "model.compile(optimizer=tf.keras.optimizers.Adam(learning_rate=lr),\n",
    "              loss='categorical_crossentropy',\n",
    "              metrics=['acc'])"
   ]
  },
  {
   "cell_type": "code",
   "execution_count": 12,
   "id": "1e48f95c",
   "metadata": {},
   "outputs": [
    {
     "name": "stdout",
     "output_type": "stream",
     "text": [
      "Model: \"sequential\"\n",
      "_________________________________________________________________\n",
      " Layer (type)                Output Shape              Param #   \n",
      "=================================================================\n",
      " conv2d (Conv2D)             (None, 254, 254, 32)      320       \n",
      "                                                                 \n",
      " max_pooling2d (MaxPooling2D  (None, 127, 127, 32)     0         \n",
      " )                                                               \n",
      "                                                                 \n",
      " conv2d_1 (Conv2D)           (None, 125, 125, 64)      18496     \n",
      "                                                                 \n",
      " max_pooling2d_1 (MaxPooling  (None, 62, 62, 64)       0         \n",
      " 2D)                                                             \n",
      "                                                                 \n",
      " flatten (Flatten)           (None, 246016)            0         \n",
      "                                                                 \n",
      " dense (Dense)               (None, 128)               31490176  \n",
      "                                                                 \n",
      " dense_1 (Dense)             (None, 3)                 387       \n",
      "                                                                 \n",
      "=================================================================\n",
      "Total params: 31,509,379\n",
      "Trainable params: 31,509,379\n",
      "Non-trainable params: 0\n",
      "_________________________________________________________________\n"
     ]
    }
   ],
   "source": [
    "model.summary()"
   ]
  },
  {
   "cell_type": "markdown",
   "id": "2893c4f2",
   "metadata": {},
   "source": [
    "### 8 Epochs first CNN Training"
   ]
  },
  {
   "cell_type": "code",
   "execution_count": 14,
   "id": "a0bb0a77",
   "metadata": {},
   "outputs": [
    {
     "name": "stdout",
     "output_type": "stream",
     "text": [
      "Epoch 1/8\n",
      "8/8 [==============================] - 65s 7s/step - loss: 1706.9534 - acc: 0.3458 - val_loss: 30.5475 - val_acc: 0.3333\n",
      "Epoch 2/8\n",
      "8/8 [==============================] - 51s 5s/step - loss: 6.4888 - acc: 0.4333 - val_loss: 0.9275 - val_acc: 0.4667\n",
      "Epoch 3/8\n",
      "8/8 [==============================] - 51s 5s/step - loss: 0.8265 - acc: 0.6000 - val_loss: 1.1902 - val_acc: 0.4333\n",
      "Epoch 4/8\n",
      "8/8 [==============================] - 41s 4s/step - loss: 1.1554 - acc: 0.7167 - val_loss: 1.7135 - val_acc: 0.5000\n",
      "Epoch 5/8\n",
      "8/8 [==============================] - 42s 4s/step - loss: 0.2277 - acc: 0.9458 - val_loss: 1.2347 - val_acc: 0.6333\n",
      "Epoch 6/8\n",
      "8/8 [==============================] - 51s 5s/step - loss: 0.0797 - acc: 0.9750 - val_loss: 1.7021 - val_acc: 0.5667\n",
      "Epoch 7/8\n",
      "8/8 [==============================] - 51s 5s/step - loss: 0.0659 - acc: 0.9875 - val_loss: 2.3909 - val_acc: 0.4667\n",
      "Epoch 8/8\n",
      "8/8 [==============================] - 51s 5s/step - loss: 0.0991 - acc: 0.9792 - val_loss: 2.5217 - val_acc: 0.5333\n",
      "418.3243770599365\n"
     ]
    }
   ],
   "source": [
    "start_time = time.time()\n",
    "history = model.fit_generator(\n",
    "        train_data_gen,\n",
    "        steps_per_epoch=train_data_gen.samples // batch_size,\n",
    "        epochs=8,\n",
    "        validation_data=validation_data_gen,\n",
    "        validation_steps=validation_data_gen.samples // batch_size,\n",
    "        workers=8,\n",
    ")\n",
    "print(time.time() - start_time)"
   ]
  },
  {
   "cell_type": "code",
   "execution_count": 15,
   "id": "ed5f6f8e",
   "metadata": {
    "scrolled": true
   },
   "outputs": [],
   "source": [
    "# model_loss, model_acc = model.evaluate_generator(test_data_gen, steps=len(test_data_gen))\n",
    "# print('Model evaluation accuracy:', model_acc)"
   ]
  },
  {
   "cell_type": "code",
   "execution_count": 16,
   "id": "51af1e53",
   "metadata": {},
   "outputs": [
    {
     "name": "stdout",
     "output_type": "stream",
     "text": [
      "WARNING:tensorflow:Your input ran out of data; interrupting training. Make sure that your dataset or generator can generate at least `steps_per_epoch * epochs` batches (in this case, 2 batches). You may need to use the repeat() function when building your dataset.\n"
     ]
    }
   ],
   "source": [
    "# Get the predictions for the test set\n",
    "test_predictions_percentages = model.predict_generator(test_data_gen, steps=test_data_gen.samples // batch_size + 1)\n",
    "test_predictions = np.argmax(test_predictions_percentages, axis=1)\n",
    "\n",
    "# Get the true labels for the test set\n",
    "test_labels = test_data_gen.classes"
   ]
  },
  {
   "cell_type": "code",
   "execution_count": 17,
   "id": "9f279963",
   "metadata": {},
   "outputs": [
    {
     "name": "stdout",
     "output_type": "stream",
     "text": [
      "Iteration 0. Label: 0. Prediction: 0\n",
      "Prediction percentages:  [0.85648847 0.09955225 0.04395939]\n",
      "Iteration 1. Label: 0. Prediction: 2\n",
      "Prediction percentages:  [0.07231608 0.05130712 0.87637675]\n",
      "Iteration 2. Label: 0. Prediction: 1\n",
      "Prediction percentages:  [0.37922925 0.3898183  0.23095247]\n",
      "Iteration 3. Label: 0. Prediction: 2\n",
      "Prediction percentages:  [4.7673592e-03 9.9070756e-05 9.9513358e-01]\n",
      "Iteration 4. Label: 0. Prediction: 0\n",
      "Prediction percentages:  [0.6262949  0.00100976 0.37269533]\n",
      "Iteration 5. Label: 0. Prediction: 0\n",
      "Prediction percentages:  [0.84631944 0.02338425 0.13029626]\n",
      "Iteration 6. Label: 0. Prediction: 0\n",
      "Prediction percentages:  [0.8507328  0.04574756 0.1035196 ]\n",
      "Iteration 7. Label: 0. Prediction: 2\n",
      "Prediction percentages:  [1.7633309e-07 4.6277712e-08 9.9999976e-01]\n",
      "Iteration 8. Label: 0. Prediction: 2\n",
      "Prediction percentages:  [1.0076894e-07 1.4279868e-08 9.9999988e-01]\n",
      "Iteration 9. Label: 0. Prediction: 1\n",
      "Prediction percentages:  [0.01929662 0.563137   0.41756636]\n",
      "Iteration 10. Label: 1. Prediction: 2\n",
      "Prediction percentages:  [7.8611796e-05 4.5920573e-03 9.9532938e-01]\n",
      "Iteration 11. Label: 1. Prediction: 0\n",
      "Prediction percentages:  [7.6777005e-01 1.5403530e-04 2.3207587e-01]\n",
      "Iteration 12. Label: 1. Prediction: 2\n",
      "Prediction percentages:  [1.7342151e-17 2.1525354e-07 9.9999976e-01]\n",
      "Iteration 13. Label: 1. Prediction: 2\n",
      "Prediction percentages:  [5.7398232e-05 1.0150926e-05 9.9993241e-01]\n",
      "Iteration 14. Label: 1. Prediction: 2\n",
      "Prediction percentages:  [1.8907804e-07 4.7436777e-10 9.9999976e-01]\n",
      "Iteration 15. Label: 1. Prediction: 1\n",
      "Prediction percentages:  [0.00537849 0.711264   0.2833575 ]\n",
      "Iteration 16. Label: 1. Prediction: 2\n",
      "Prediction percentages:  [0.01005417 0.00283918 0.9871066 ]\n",
      "Iteration 17. Label: 1. Prediction: 2\n",
      "Prediction percentages:  [3.0888813e-02 1.7877670e-04 9.6893239e-01]\n",
      "Iteration 18. Label: 1. Prediction: 0\n",
      "Prediction percentages:  [0.93889004 0.00927878 0.05183122]\n",
      "Iteration 19. Label: 1. Prediction: 2\n",
      "Prediction percentages:  [0.22917333 0.02764129 0.74318534]\n",
      "Iteration 20. Label: 2. Prediction: 2\n",
      "Prediction percentages:  [0.40216807 0.013959   0.583873  ]\n",
      "Iteration 21. Label: 2. Prediction: 2\n",
      "Prediction percentages:  [5.8098070e-05 1.8413333e-05 9.9992347e-01]\n",
      "Iteration 22. Label: 2. Prediction: 2\n",
      "Prediction percentages:  [0.01378447 0.30530533 0.68091017]\n",
      "Iteration 23. Label: 2. Prediction: 0\n",
      "Prediction percentages:  [0.89320445 0.00883682 0.09795876]\n",
      "Iteration 24. Label: 2. Prediction: 2\n",
      "Prediction percentages:  [0.20553516 0.00960149 0.78486335]\n",
      "Iteration 25. Label: 2. Prediction: 2\n",
      "Prediction percentages:  [0.00799605 0.00926572 0.9827382 ]\n",
      "Iteration 26. Label: 2. Prediction: 2\n",
      "Prediction percentages:  [1.0957473e-03 5.2126796e-09 9.9890423e-01]\n",
      "Iteration 27. Label: 2. Prediction: 0\n",
      "Prediction percentages:  [9.9957830e-01 3.9393987e-04 2.7716231e-05]\n",
      "Iteration 28. Label: 2. Prediction: 0\n",
      "Prediction percentages:  [0.54255486 0.05176844 0.4056767 ]\n",
      "Iteration 29. Label: 2. Prediction: 2\n",
      "Prediction percentages:  [1.9324274e-01 4.3908687e-04 8.0631810e-01]\n"
     ]
    }
   ],
   "source": [
    "for x in range(len(test_predictions)):\n",
    "    print('Iteration ' + str(x) + '. Label: ' + str(test_labels[x]) + '. Prediction: ' + str(test_predictions[x]))\n",
    "    print('Prediction percentages: ', test_predictions_percentages[x])"
   ]
  },
  {
   "cell_type": "code",
   "execution_count": 18,
   "id": "a3b6a196",
   "metadata": {},
   "outputs": [
    {
     "name": "stdout",
     "output_type": "stream",
     "text": [
      "The accuracy on the test set is: 0.4\n"
     ]
    },
    {
     "data": {
      "text/plain": [
       "<sklearn.metrics._plot.confusion_matrix.ConfusionMatrixDisplay at 0x15c834af0>"
      ]
     },
     "execution_count": 18,
     "metadata": {},
     "output_type": "execute_result"
    },
    {
     "data": {
      "image/png": "[encoded data removed]",
      "text/plain": [
       "<Figure size 640x480 with 2 Axes>"
      ]
     },
     "metadata": {},
     "output_type": "display_data"
    }
   ],
   "source": [
    "print('The accuracy on the test set is: ' + str(accuracy_score(test_labels, test_predictions)))\n",
    "\n",
    "# Create the confusion matrix\n",
    "confusion_mtx = confusion_matrix(test_labels, test_predictions)\n",
    "\n",
    "# Plot the confusion matrix\n",
    "disp = ConfusionMatrixDisplay(confusion_matrix=confusion_mtx, display_labels=['BigRoom', 'DrumAndBass', 'Techno'])\n",
    "\n",
    "# Plot the confusion matrix\n",
    "disp.plot()"
   ]
  },
  {
   "cell_type": "code",
   "execution_count": 19,
   "id": "ce39159d",
   "metadata": {},
   "outputs": [
    {
     "data": {
      "text/plain": [
       "dict_keys(['loss', 'acc', 'val_loss', 'val_acc'])"
      ]
     },
     "execution_count": 19,
     "metadata": {},
     "output_type": "execute_result"
    }
   ],
   "source": [
    "history.history.keys()"
   ]
  },
  {
   "cell_type": "markdown",
   "id": "886897f6",
   "metadata": {},
   "source": [
    "### SAVE AND LOAD MODEL"
   ]
  },
  {
   "cell_type": "code",
   "execution_count": 20,
   "id": "4786e8ac",
   "metadata": {},
   "outputs": [],
   "source": [
    "model.save('../models/fsm_cnn_8_epochs_80_10_10_adam_categorical_crossentropy_accuracy_no_rescale.h5')"
   ]
  },
  {
   "cell_type": "code",
   "execution_count": 22,
   "id": "3ed88276",
   "metadata": {},
   "outputs": [],
   "source": [
    "# Loading in the saved model\n",
    "saved_model = load_model('../models/fsm_cnn_8_epochs_80_10_10_adam_categorical_crossentropy_accuracy_no_rescale.h5')"
   ]
  },
  {
   "cell_type": "markdown",
   "id": "96c13ea1",
   "metadata": {},
   "source": [
    "# FSM 1 HAS AN ACCURACY OF 40%"
   ]
  },
  {
   "cell_type": "code",
   "execution_count": null,
   "id": "4c649df0",
   "metadata": {},
   "outputs": [],
   "source": []
  }
 ],
 "metadata": {
  "kernelspec": {
   "display_name": "Python 3 (ipykernel)",
   "language": "python",
   "name": "python3"
  },
  "language_info": {
   "codemirror_mode": {
    "name": "ipython",
    "version": 3
   },
   "file_extension": ".py",
   "mimetype": "text/x-python",
   "name": "python",
   "nbconvert_exporter": "python",
   "pygments_lexer": "ipython3",
   "version": "3.8.16"
  }
 },
 "nbformat": 4,
 "nbformat_minor": 5
}
