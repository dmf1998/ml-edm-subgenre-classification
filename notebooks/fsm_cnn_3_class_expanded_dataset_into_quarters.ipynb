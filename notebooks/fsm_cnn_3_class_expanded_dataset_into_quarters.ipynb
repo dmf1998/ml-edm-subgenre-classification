{
 "cells": [
  {
   "cell_type": "markdown",
   "id": "3c444bc9",
   "metadata": {},
   "source": [
    "# Audio File EDA, Image Creation, Pre-processing, FSM\n",
    "\n",
    "- Converting the the audio files to square Mel-spectrograms, and saving in spectrograms/(BigRoom, DrumAndBass, Techno)\n",
    "- Applying pre-processing\n",
    "- FSM CNN with TensorFlow"
   ]
  },
  {
   "cell_type": "code",
   "execution_count": 25,
   "id": "c5bd18f2",
   "metadata": {},
   "outputs": [],
   "source": [
    "# Visualization\n",
    "import matplotlib.pyplot as plt\n",
    "import seaborn as sns\n",
    "sns.color_palette(\"Blues\", as_cmap=True)\n",
    "\n",
    "# Standard Packages\n",
    "import numpy as np\n",
    "import warnings\n",
    "import pandas as pd\n",
    "import os\n",
    "import shutil\n",
    "import random\n",
    "import time\n",
    "import PIL\n",
    "pd.set_option('display.max_colwidth', None)\n",
    "warnings.filterwarnings(\"ignore\")\n",
    "\n",
    "# ML Libraries\n",
    "from sklearn.model_selection import train_test_split\n",
    "from sklearn.metrics import confusion_matrix, ConfusionMatrixDisplay, accuracy_score\n",
    "import keras\n",
    "import tensorflow as tf\n",
    "from tensorflow.keras.models import Model, Sequential, load_model\n",
    "from tensorflow.keras.layers import Input, Conv2D, MaxPooling2D, Flatten, Dense, concatenate, Dropout\n",
    "from tensorflow.keras.preprocessing.image import ImageDataGenerator\n",
    "\n",
    "\n",
    "#for loading and visualizing audio files\n",
    "import librosa\n",
    "import librosa.display\n",
    "from scipy import signal\n",
    "from scipy.io import wavfile\n",
    "import wave\n",
    "\n",
    "#to play audio\n",
    "import IPython.display as ipd"
   ]
  },
  {
   "cell_type": "markdown",
   "id": "f038dd61",
   "metadata": {},
   "source": [
    "### Getting list of genre_names and setting the audio_fpath variable"
   ]
  },
  {
   "cell_type": "code",
   "execution_count": 2,
   "id": "0bb90526",
   "metadata": {},
   "outputs": [
    {
     "name": "stdout",
     "output_type": "stream",
     "text": [
      "['Breaks', 'BigRoom', 'PsyTrance', 'TechHouse', 'ReggaeDub', 'ElectronicaDowntempo', '.DS_Store', 'IndieDanceNuDisco', 'HardcoreHardTechno', 'Trance', 'Minimal', 'ElectroHouse', 'Dance', 'DrumAndBass', 'HipHop', 'GlitchHop', 'House', 'HardDance', 'ProgressiveHouse', 'FutureHouse', 'FunkRAndB', 'Dubstep', 'DeepHouse', 'Techno']\n"
     ]
    }
   ],
   "source": [
    "audio_fpath = \"../data/subgenre_dataset/\"\n",
    "genre_names = os.listdir(audio_fpath)\n",
    "print(genre_names)"
   ]
  },
  {
   "cell_type": "markdown",
   "id": "5268a6c5",
   "metadata": {},
   "source": [
    "### Getting list of file paths for the 3 selected genres"
   ]
  },
  {
   "cell_type": "code",
   "execution_count": 3,
   "id": "640f025a",
   "metadata": {},
   "outputs": [],
   "source": [
    "big_room_file_paths = [audio_fpath + 'BigRoom/' + f for f in os.listdir(audio_fpath + 'BigRoom/') if '.wav' in f]\n",
    "# big_room_file_paths"
   ]
  },
  {
   "cell_type": "code",
   "execution_count": 4,
   "id": "f6190a61",
   "metadata": {},
   "outputs": [],
   "source": [
    "dnb_file_paths = [audio_fpath + 'DrumAndBass/' + f for f in os.listdir(audio_fpath + 'DrumAndBass/') if '.wav' in f]\n",
    "# dnb_file_paths"
   ]
  },
  {
   "cell_type": "code",
   "execution_count": 5,
   "id": "b0916e16",
   "metadata": {},
   "outputs": [],
   "source": [
    "techno_file_paths = [audio_fpath + 'Techno/' + f for f in os.listdir(audio_fpath + 'Techno/') if '.wav' in f]\n",
    "# techno_file_paths"
   ]
  },
  {
   "cell_type": "markdown",
   "id": "13a06fd5",
   "metadata": {},
   "source": [
    "## Image pre-processing\n",
    "\n",
    "### Data has already been train, validate, test split\n",
    "\n",
    "#### We use Generators because we want to be able to expand this to larger datasets\n",
    "This means we need to use fit_generator and predict_generator functions during training and testing"
   ]
  },
  {
   "cell_type": "code",
   "execution_count": 6,
   "id": "86c97123",
   "metadata": {},
   "outputs": [],
   "source": [
    "# Setting batch size to 1/10 the size of the dataset. Image width and height already loads in as 256x256\n",
    "\n",
    "batch_size = 30\n",
    "img_height = 256\n",
    "img_width = 256\n",
    "num_channels = 1  # It is grayscale. RGB would be 3\n",
    "\n",
    "\n",
    "# Set the root directory containing the subdirectories for each class\n",
    "root_dir = '../spectrograms/quarters/'\n",
    "\n",
    "# Create the train, validation, and test directories\n",
    "train_dir = root_dir + 'train/'\n",
    "val_dir = root_dir + 'validate/'\n",
    "test_dir = root_dir + 'test/'"
   ]
  },
  {
   "cell_type": "markdown",
   "id": "6d0cf194",
   "metadata": {},
   "source": [
    "#### Without rescaling"
   ]
  },
  {
   "cell_type": "code",
   "execution_count": 6,
   "id": "79be0d1a",
   "metadata": {},
   "outputs": [
    {
     "name": "stdout",
     "output_type": "stream",
     "text": [
      "Found 957 images belonging to 3 classes.\n",
      "Found 120 images belonging to 3 classes.\n",
      "Found 123 images belonging to 3 classes.\n"
     ]
    }
   ],
   "source": [
    "# # Create data generators for the train, validation, and test sets\n",
    "\n",
    "# # Need to look into the rescale value. This is the scaling used for color images. Should it be different for grayscale?\n",
    "\n",
    "# train_data_gen = ImageDataGenerator().flow_from_directory(\n",
    "#         directory=train_dir,\n",
    "#         target_size=(img_height, img_width),\n",
    "#         color_mode='grayscale',\n",
    "#         batch_size=batch_size,\n",
    "#         class_mode='categorical')\n",
    "\n",
    "# validation_data_gen = ImageDataGenerator().flow_from_directory(\n",
    "#         directory=val_dir,\n",
    "#         target_size=(img_height, img_width),\n",
    "#         color_mode='grayscale',\n",
    "#         batch_size=batch_size,\n",
    "#         class_mode='categorical')\n",
    "\n",
    "# test_data_gen = ImageDataGenerator().flow_from_directory(\n",
    "#         directory=test_dir,\n",
    "#         target_size=(img_height, img_width),\n",
    "#         color_mode='grayscale',\n",
    "#         batch_size=batch_size,\n",
    "#         class_mode='categorical')"
   ]
  },
  {
   "cell_type": "markdown",
   "id": "a87fb7c4",
   "metadata": {},
   "source": [
    "#### With Re-scaling"
   ]
  },
  {
   "cell_type": "code",
   "execution_count": 7,
   "id": "d2a3473c",
   "metadata": {},
   "outputs": [
    {
     "name": "stdout",
     "output_type": "stream",
     "text": [
      "Found 957 images belonging to 3 classes.\n",
      "Found 120 images belonging to 3 classes.\n",
      "Found 123 images belonging to 3 classes.\n"
     ]
    }
   ],
   "source": [
    "# Create data generators for the train, validation, and test sets\n",
    "\n",
    "# Need to look into the rescale value. This is the scaling used for color images. Should it be different for grayscale?\n",
    "\n",
    "train_data_gen = ImageDataGenerator(rescale=1./255).flow_from_directory(\n",
    "        directory=train_dir,\n",
    "        target_size=(img_height, img_width),\n",
    "        color_mode='grayscale',\n",
    "        batch_size=batch_size,\n",
    "        class_mode='categorical')\n",
    "\n",
    "validation_data_gen = ImageDataGenerator(rescale=1./255).flow_from_directory(\n",
    "        directory=val_dir,\n",
    "        target_size=(img_height, img_width),\n",
    "        color_mode='grayscale',\n",
    "        batch_size=batch_size,\n",
    "        class_mode='categorical')\n",
    "\n",
    "test_data_gen = ImageDataGenerator(rescale=1./255).flow_from_directory(\n",
    "        directory=test_dir,\n",
    "        target_size=(img_height, img_width),\n",
    "        color_mode='grayscale',\n",
    "        batch_size=batch_size,\n",
    "        class_mode='categorical')"
   ]
  },
  {
   "cell_type": "markdown",
   "id": "3ad39720",
   "metadata": {},
   "source": [
    "## FIRST FSM"
   ]
  },
  {
   "cell_type": "code",
   "execution_count": 23,
   "id": "a6d9dbb1",
   "metadata": {},
   "outputs": [],
   "source": [
    "lr = 0.5e-3\n",
    "stride = 2\n",
    "padding = 'same'     # Temporary padding selection - STILL NEED TO IMPLEMENT\n",
    "kernel_size = (3, 3)\n",
    "input_shape=(img_height, img_width, num_channels)"
   ]
  },
  {
   "cell_type": "code",
   "execution_count": 13,
   "id": "2e435993",
   "metadata": {},
   "outputs": [],
   "source": [
    "# Define the CNN model\n",
    "model = Sequential([\n",
    "    Conv2D(32, (3, 3), activation='relu', input_shape=input_shape),\n",
    "    MaxPooling2D(pool_size=(2, 2)),\n",
    "    Conv2D(64, (3, 3), activation='relu'),\n",
    "    MaxPooling2D(pool_size=(2, 2)),\n",
    "    Flatten(),\n",
    "    Dense(128, activation='relu'),\n",
    "    Dense(3, activation='softmax')\n",
    "])"
   ]
  },
  {
   "cell_type": "code",
   "execution_count": 14,
   "id": "4a747c35",
   "metadata": {},
   "outputs": [],
   "source": [
    "model.compile(optimizer=tf.keras.optimizers.Adam(learning_rate=lr),\n",
    "              loss='categorical_crossentropy',\n",
    "              metrics=['acc'])"
   ]
  },
  {
   "cell_type": "code",
   "execution_count": 15,
   "id": "1e48f95c",
   "metadata": {},
   "outputs": [
    {
     "name": "stdout",
     "output_type": "stream",
     "text": [
      "Model: \"sequential_1\"\n",
      "_________________________________________________________________\n",
      " Layer (type)                Output Shape              Param #   \n",
      "=================================================================\n",
      " conv2d_2 (Conv2D)           (None, 254, 254, 32)      320       \n",
      "                                                                 \n",
      " max_pooling2d_2 (MaxPooling  (None, 127, 127, 32)     0         \n",
      " 2D)                                                             \n",
      "                                                                 \n",
      " conv2d_3 (Conv2D)           (None, 125, 125, 64)      18496     \n",
      "                                                                 \n",
      " max_pooling2d_3 (MaxPooling  (None, 62, 62, 64)       0         \n",
      " 2D)                                                             \n",
      "                                                                 \n",
      " flatten_1 (Flatten)         (None, 246016)            0         \n",
      "                                                                 \n",
      " dense_2 (Dense)             (None, 128)               31490176  \n",
      "                                                                 \n",
      " dense_3 (Dense)             (None, 3)                 387       \n",
      "                                                                 \n",
      "=================================================================\n",
      "Total params: 31,509,379\n",
      "Trainable params: 31,509,379\n",
      "Non-trainable params: 0\n",
      "_________________________________________________________________\n"
     ]
    }
   ],
   "source": [
    "model.summary()"
   ]
  },
  {
   "cell_type": "markdown",
   "id": "2893c4f2",
   "metadata": {},
   "source": [
    "### 8 Epochs first CNN Training\n",
    "\n",
    "Changed lr to 0.5e-3. Doing this one with rescaling"
   ]
  },
  {
   "cell_type": "code",
   "execution_count": 16,
   "id": "a0bb0a77",
   "metadata": {},
   "outputs": [
    {
     "name": "stdout",
     "output_type": "stream",
     "text": [
      "Epoch 1/8\n"
     ]
    },
    {
     "name": "stderr",
     "output_type": "stream",
     "text": [
      "2023-04-11 10:57:29.861737: W tensorflow/tsl/platform/profile_utils/cpu_utils.cc:128] Failed to get CPU frequency: 0 Hz\n"
     ]
    },
    {
     "name": "stdout",
     "output_type": "stream",
     "text": [
      "31/31 [==============================] - 120s 3s/step - loss: 1.5457 - acc: 0.3700 - val_loss: 1.0562 - val_acc: 0.5917\n",
      "Epoch 2/8\n",
      "31/31 [==============================] - 113s 3s/step - loss: 0.9547 - acc: 0.5739 - val_loss: 0.8599 - val_acc: 0.6333\n",
      "Epoch 3/8\n",
      "31/31 [==============================] - 98s 3s/step - loss: 0.7603 - acc: 0.6861 - val_loss: 0.7100 - val_acc: 0.7083\n",
      "Epoch 4/8\n",
      "31/31 [==============================] - 121s 3s/step - loss: 0.6203 - acc: 0.7681 - val_loss: 0.6403 - val_acc: 0.7167\n",
      "Epoch 5/8\n",
      "31/31 [==============================] - 120s 3s/step - loss: 0.4659 - acc: 0.8296 - val_loss: 0.5313 - val_acc: 0.8167\n",
      "Epoch 6/8\n",
      "31/31 [==============================] - 112s 3s/step - loss: 0.3646 - acc: 0.8630 - val_loss: 0.4604 - val_acc: 0.8333\n",
      "Epoch 7/8\n",
      "31/31 [==============================] - 115s 3s/step - loss: 0.2533 - acc: 0.9301 - val_loss: 0.7579 - val_acc: 0.7250\n",
      "Epoch 8/8\n",
      "31/31 [==============================] - 115s 3s/step - loss: 0.1555 - acc: 0.9698 - val_loss: 0.4391 - val_acc: 0.8000\n",
      "927.4214599132538\n"
     ]
    }
   ],
   "source": [
    "start_time = time.time()\n",
    "history = model.fit_generator(\n",
    "        train_data_gen,\n",
    "        steps_per_epoch=train_data_gen.samples // batch_size,\n",
    "        epochs=8,\n",
    "        validation_data=validation_data_gen,\n",
    "        validation_steps=validation_data_gen.samples // batch_size,\n",
    "        workers=8,\n",
    ")\n",
    "print(time.time() - start_time)"
   ]
  },
  {
   "cell_type": "code",
   "execution_count": 13,
   "id": "ed5f6f8e",
   "metadata": {
    "scrolled": true
   },
   "outputs": [],
   "source": [
    "# model_loss, model_acc = model.evaluate_generator(test_data_gen, steps=len(test_data_gen))\n",
    "# print('Model evaluation accuracy:', model_acc)"
   ]
  },
  {
   "cell_type": "code",
   "execution_count": 17,
   "id": "51af1e53",
   "metadata": {},
   "outputs": [],
   "source": [
    "# Get the predictions for the test set\n",
    "test_predictions_percentages = model.predict_generator(test_data_gen, steps=test_data_gen.samples // batch_size + 1)\n",
    "test_predictions = np.argmax(test_predictions_percentages, axis=1)\n",
    "\n",
    "# Get the true labels for the test set\n",
    "test_labels = test_data_gen.classes"
   ]
  },
  {
   "cell_type": "code",
   "execution_count": 18,
   "id": "9f279963",
   "metadata": {
    "collapsed": true
   },
   "outputs": [
    {
     "name": "stdout",
     "output_type": "stream",
     "text": [
      "Iteration 0. Label: 0. Prediction: 0\n",
      "Prediction percentages:  [0.5465421  0.33941886 0.1140391 ]\n",
      "Iteration 1. Label: 0. Prediction: 2\n",
      "Prediction percentages:  [3.6019325e-04 6.3653936e-04 9.9900323e-01]\n",
      "Iteration 2. Label: 0. Prediction: 0\n",
      "Prediction percentages:  [0.8021343  0.00881685 0.18904895]\n",
      "Iteration 3. Label: 0. Prediction: 1\n",
      "Prediction percentages:  [0.03011573 0.9657298  0.00415449]\n",
      "Iteration 4. Label: 0. Prediction: 1\n",
      "Prediction percentages:  [0.01392163 0.89935076 0.08672757]\n",
      "Iteration 5. Label: 0. Prediction: 0\n",
      "Prediction percentages:  [0.95975995 0.0209432  0.01929692]\n",
      "Iteration 6. Label: 0. Prediction: 0\n",
      "Prediction percentages:  [0.8885042  0.10014273 0.01135304]\n",
      "Iteration 7. Label: 0. Prediction: 1\n",
      "Prediction percentages:  [0.014976   0.6937616  0.29126242]\n",
      "Iteration 8. Label: 0. Prediction: 1\n",
      "Prediction percentages:  [0.08001376 0.91728246 0.00270374]\n",
      "Iteration 9. Label: 0. Prediction: 0\n",
      "Prediction percentages:  [0.56217647 0.01538121 0.42244232]\n",
      "Iteration 10. Label: 0. Prediction: 2\n",
      "Prediction percentages:  [0.00512016 0.11432433 0.88055557]\n",
      "Iteration 11. Label: 0. Prediction: 1\n",
      "Prediction percentages:  [0.14028658 0.85346276 0.00625061]\n",
      "Iteration 12. Label: 0. Prediction: 0\n",
      "Prediction percentages:  [0.92267543 0.05988429 0.01744023]\n",
      "Iteration 13. Label: 0. Prediction: 1\n",
      "Prediction percentages:  [0.0751908  0.9210979  0.00371136]\n",
      "Iteration 14. Label: 0. Prediction: 1\n",
      "Prediction percentages:  [0.16942282 0.5159895  0.31458762]\n",
      "Iteration 15. Label: 0. Prediction: 0\n",
      "Prediction percentages:  [0.95125985 0.03576267 0.01297753]\n",
      "Iteration 16. Label: 0. Prediction: 0\n",
      "Prediction percentages:  [0.78883404 0.13012591 0.08104002]\n",
      "Iteration 17. Label: 0. Prediction: 0\n",
      "Prediction percentages:  [0.96816796 0.02469218 0.0071399 ]\n",
      "Iteration 18. Label: 0. Prediction: 2\n",
      "Prediction percentages:  [0.02068657 0.00178981 0.9775236 ]\n",
      "Iteration 19. Label: 0. Prediction: 0\n",
      "Prediction percentages:  [0.72834784 0.2638608  0.00779134]\n",
      "Iteration 20. Label: 0. Prediction: 2\n",
      "Prediction percentages:  [0.14203711 0.04507576 0.81288713]\n",
      "Iteration 21. Label: 0. Prediction: 0\n",
      "Prediction percentages:  [0.9241033  0.07021132 0.00568533]\n",
      "Iteration 22. Label: 0. Prediction: 1\n",
      "Prediction percentages:  [4.8099355e-06 9.9997747e-01 1.7762402e-05]\n",
      "Iteration 23. Label: 0. Prediction: 1\n",
      "Prediction percentages:  [0.18125395 0.8084068  0.01033933]\n",
      "Iteration 24. Label: 0. Prediction: 1\n",
      "Prediction percentages:  [0.40302047 0.51816994 0.07880955]\n",
      "Iteration 25. Label: 0. Prediction: 0\n",
      "Prediction percentages:  [0.6840953  0.03023171 0.285673  ]\n",
      "Iteration 26. Label: 0. Prediction: 1\n",
      "Prediction percentages:  [0.39814195 0.44360515 0.15825292]\n",
      "Iteration 27. Label: 0. Prediction: 1\n",
      "Prediction percentages:  [0.40962043 0.54606086 0.04431874]\n",
      "Iteration 28. Label: 0. Prediction: 0\n",
      "Prediction percentages:  [0.7876809  0.03629331 0.17602575]\n",
      "Iteration 29. Label: 0. Prediction: 1\n",
      "Prediction percentages:  [0.07216297 0.9232254  0.00461166]\n",
      "Iteration 30. Label: 0. Prediction: 0\n",
      "Prediction percentages:  [0.93034345 0.04510584 0.02455075]\n",
      "Iteration 31. Label: 0. Prediction: 2\n",
      "Prediction percentages:  [2.7580159e-02 2.5919781e-04 9.7216064e-01]\n",
      "Iteration 32. Label: 0. Prediction: 0\n",
      "Prediction percentages:  [0.9267941  0.02212209 0.05108383]\n",
      "Iteration 33. Label: 0. Prediction: 0\n",
      "Prediction percentages:  [0.9804246  0.01342527 0.00615006]\n",
      "Iteration 34. Label: 0. Prediction: 1\n",
      "Prediction percentages:  [0.18828858 0.7974376  0.01427385]\n",
      "Iteration 35. Label: 0. Prediction: 1\n",
      "Prediction percentages:  [0.03781343 0.95901877 0.0031678 ]\n",
      "Iteration 36. Label: 0. Prediction: 1\n",
      "Prediction percentages:  [3.2644666e-04 9.9959439e-01 7.9068377e-05]\n",
      "Iteration 37. Label: 0. Prediction: 0\n",
      "Prediction percentages:  [0.9502723  0.03360534 0.01612228]\n",
      "Iteration 38. Label: 0. Prediction: 0\n",
      "Prediction percentages:  [0.92052084 0.07017917 0.0093    ]\n",
      "Iteration 39. Label: 0. Prediction: 1\n",
      "Prediction percentages:  [1.7225781e-03 9.9779689e-01 4.8052589e-04]\n",
      "Iteration 40. Label: 0. Prediction: 0\n",
      "Prediction percentages:  [0.6953129  0.24991427 0.05477285]\n",
      "Iteration 41. Label: 1. Prediction: 2\n",
      "Prediction percentages:  [0.0626304  0.0015219  0.93584764]\n",
      "Iteration 42. Label: 1. Prediction: 0\n",
      "Prediction percentages:  [0.5689356  0.24385117 0.18721327]\n",
      "Iteration 43. Label: 1. Prediction: 0\n",
      "Prediction percentages:  [0.87766814 0.00786193 0.11446999]\n",
      "Iteration 44. Label: 1. Prediction: 2\n",
      "Prediction percentages:  [2.2952190e-05 2.5907916e-06 9.9997449e-01]\n",
      "Iteration 45. Label: 1. Prediction: 0\n",
      "Prediction percentages:  [0.9681997  0.01286584 0.01893447]\n",
      "Iteration 46. Label: 1. Prediction: 2\n",
      "Prediction percentages:  [0.09209367 0.00296772 0.9049386 ]\n",
      "Iteration 47. Label: 1. Prediction: 2\n",
      "Prediction percentages:  [9.5234951e-05 5.6341087e-06 9.9989915e-01]\n",
      "Iteration 48. Label: 1. Prediction: 1\n",
      "Prediction percentages:  [0.08228708 0.91225284 0.00546004]\n",
      "Iteration 49. Label: 1. Prediction: 0\n",
      "Prediction percentages:  [0.97307736 0.01336339 0.01355925]\n",
      "Iteration 50. Label: 1. Prediction: 0\n",
      "Prediction percentages:  [0.9823406  0.01203599 0.00562343]\n",
      "Iteration 51. Label: 1. Prediction: 0\n",
      "Prediction percentages:  [0.9368755  0.05839449 0.00473002]\n",
      "Iteration 52. Label: 1. Prediction: 1\n",
      "Prediction percentages:  [0.01179544 0.98644906 0.00175542]\n",
      "Iteration 53. Label: 1. Prediction: 1\n",
      "Prediction percentages:  [0.00715787 0.9910255  0.00181665]\n",
      "Iteration 54. Label: 1. Prediction: 0\n",
      "Prediction percentages:  [0.43995804 0.15740173 0.40264022]\n",
      "Iteration 55. Label: 1. Prediction: 2\n",
      "Prediction percentages:  [4.1618815e-04 8.1776045e-07 9.9958295e-01]\n",
      "Iteration 56. Label: 1. Prediction: 2\n",
      "Prediction percentages:  [0.01918457 0.11580837 0.86500704]\n",
      "Iteration 57. Label: 1. Prediction: 2\n",
      "Prediction percentages:  [0.11949049 0.04986777 0.83064175]\n",
      "Iteration 58. Label: 1. Prediction: 0\n",
      "Prediction percentages:  [0.81112343 0.0134403  0.17543621]\n",
      "Iteration 59. Label: 1. Prediction: 0\n",
      "Prediction percentages:  [0.9670876  0.02297099 0.00994146]\n",
      "Iteration 60. Label: 1. Prediction: 1\n",
      "Prediction percentages:  [0.09983824 0.8837118  0.01644983]\n",
      "Iteration 61. Label: 1. Prediction: 1\n",
      "Prediction percentages:  [0.04341083 0.9109636  0.0456256 ]\n",
      "Iteration 62. Label: 1. Prediction: 1\n",
      "Prediction percentages:  [0.01272783 0.98109645 0.00617571]\n",
      "Iteration 63. Label: 1. Prediction: 0\n",
      "Prediction percentages:  [0.8019362  0.12964001 0.06842379]\n",
      "Iteration 64. Label: 1. Prediction: 0\n",
      "Prediction percentages:  [0.9777493  0.01613729 0.00611345]\n",
      "Iteration 65. Label: 1. Prediction: 0\n",
      "Prediction percentages:  [9.9506539e-01 3.9139143e-04 4.5431629e-03]\n",
      "Iteration 66. Label: 1. Prediction: 0\n",
      "Prediction percentages:  [0.8946218  0.0690843  0.03629392]\n",
      "Iteration 67. Label: 1. Prediction: 1\n",
      "Prediction percentages:  [0.06569426 0.9252888  0.00901691]\n",
      "Iteration 68. Label: 1. Prediction: 0\n",
      "Prediction percentages:  [0.88712287 0.02007789 0.09279925]\n",
      "Iteration 69. Label: 1. Prediction: 0\n",
      "Prediction percentages:  [0.96697694 0.02651598 0.00650715]\n",
      "Iteration 70. Label: 1. Prediction: 2\n",
      "Prediction percentages:  [1.7626584e-03 2.8498804e-05 9.9820888e-01]\n",
      "Iteration 71. Label: 1. Prediction: 1\n",
      "Prediction percentages:  [0.2092191  0.7780666  0.01271434]\n",
      "Iteration 72. Label: 1. Prediction: 2\n",
      "Prediction percentages:  [0.1437842  0.10142167 0.7547942 ]\n",
      "Iteration 73. Label: 1. Prediction: 0\n",
      "Prediction percentages:  [0.78752214 0.20229103 0.01018679]\n",
      "Iteration 74. Label: 1. Prediction: 0\n",
      "Prediction percentages:  [0.92473817 0.04572454 0.0295372 ]\n",
      "Iteration 75. Label: 1. Prediction: 0\n",
      "Prediction percentages:  [0.7769562  0.02169505 0.2013488 ]\n",
      "Iteration 76. Label: 1. Prediction: 1\n",
      "Prediction percentages:  [0.4706662 0.5144075 0.0149263]\n",
      "Iteration 77. Label: 1. Prediction: 0\n",
      "Prediction percentages:  [0.9808415  0.00156271 0.01759577]\n",
      "Iteration 78. Label: 1. Prediction: 2\n",
      "Prediction percentages:  [8.300713e-04 6.290083e-04 9.985409e-01]\n",
      "Iteration 79. Label: 1. Prediction: 1\n",
      "Prediction percentages:  [0.16103168 0.8183979  0.02057051]\n",
      "Iteration 80. Label: 1. Prediction: 1\n",
      "Prediction percentages:  [0.38312912 0.414054   0.20281689]\n",
      "Iteration 81. Label: 1. Prediction: 1\n",
      "Prediction percentages:  [0.05355354 0.8856194  0.06082714]\n",
      "Iteration 82. Label: 2. Prediction: 0\n",
      "Prediction percentages:  [0.98887527 0.00361785 0.00750691]\n",
      "Iteration 83. Label: 2. Prediction: 2\n",
      "Prediction percentages:  [1.8411499e-06 1.7241418e-07 9.9999797e-01]\n",
      "Iteration 84. Label: 2. Prediction: 1\n",
      "Prediction percentages:  [0.03200752 0.9660515  0.00194089]\n",
      "Iteration 85. Label: 2. Prediction: 2\n",
      "Prediction percentages:  [1.5553716e-03 8.8528257e-05 9.9835604e-01]\n",
      "Iteration 86. Label: 2. Prediction: 1\n",
      "Prediction percentages:  [7.951334e-03 9.911199e-01 9.287621e-04]\n",
      "Iteration 87. Label: 2. Prediction: 0\n",
      "Prediction percentages:  [0.93401176 0.05164512 0.01434316]\n",
      "Iteration 88. Label: 2. Prediction: 0\n",
      "Prediction percentages:  [0.9564994  0.02752299 0.01597758]\n",
      "Iteration 89. Label: 2. Prediction: 2\n",
      "Prediction percentages:  [0.03050851 0.00125424 0.9682372 ]\n",
      "Iteration 90. Label: 2. Prediction: 1\n",
      "Prediction percentages:  [0.10109674 0.89391947 0.00498378]\n",
      "Iteration 91. Label: 2. Prediction: 2\n",
      "Prediction percentages:  [0.2227213  0.16150565 0.6157731 ]\n",
      "Iteration 92. Label: 2. Prediction: 0\n",
      "Prediction percentages:  [0.9790598  0.00453793 0.01640231]\n",
      "Iteration 93. Label: 2. Prediction: 2\n",
      "Prediction percentages:  [2.5063562e-01 5.1368820e-04 7.4885064e-01]\n",
      "Iteration 94. Label: 2. Prediction: 2\n",
      "Prediction percentages:  [0.47116706 0.00277345 0.5260595 ]\n",
      "Iteration 95. Label: 2. Prediction: 1\n",
      "Prediction percentages:  [0.29716572 0.70079106 0.00204322]\n",
      "Iteration 96. Label: 2. Prediction: 1\n",
      "Prediction percentages:  [0.03548127 0.88779384 0.07672492]\n",
      "Iteration 97. Label: 2. Prediction: 1\n",
      "Prediction percentages:  [0.28701678 0.68602604 0.0269571 ]\n",
      "Iteration 98. Label: 2. Prediction: 0\n",
      "Prediction percentages:  [0.9625976  0.02037748 0.01702489]\n",
      "Iteration 99. Label: 2. Prediction: 0\n",
      "Prediction percentages:  [0.9848128  0.01292907 0.00225814]\n",
      "Iteration 100. Label: 2. Prediction: 2\n",
      "Prediction percentages:  [1.9583062e-03 2.3038965e-04 9.9781138e-01]\n",
      "Iteration 101. Label: 2. Prediction: 2\n",
      "Prediction percentages:  [4.5439138e-04 1.1232071e-05 9.9953437e-01]\n",
      "Iteration 102. Label: 2. Prediction: 0\n",
      "Prediction percentages:  [0.8698981  0.03256405 0.09753789]\n",
      "Iteration 103. Label: 2. Prediction: 2\n",
      "Prediction percentages:  [6.8514244e-05 1.4784124e-06 9.9993002e-01]\n",
      "Iteration 104. Label: 2. Prediction: 2\n",
      "Prediction percentages:  [0.1102243 0.0034953 0.8862804]\n",
      "Iteration 105. Label: 2. Prediction: 2\n",
      "Prediction percentages:  [6.0213325e-03 1.9293536e-04 9.9378574e-01]\n",
      "Iteration 106. Label: 2. Prediction: 0\n",
      "Prediction percentages:  [0.6405003  0.337177   0.02232277]\n",
      "Iteration 107. Label: 2. Prediction: 0\n",
      "Prediction percentages:  [0.9542323  0.00884649 0.03692122]\n",
      "Iteration 108. Label: 2. Prediction: 0\n",
      "Prediction percentages:  [0.66739583 0.2816065  0.05099763]\n",
      "Iteration 109. Label: 2. Prediction: 1\n",
      "Prediction percentages:  [0.04416588 0.93970305 0.0161311 ]\n",
      "Iteration 110. Label: 2. Prediction: 0\n",
      "Prediction percentages:  [0.62222856 0.2836545  0.09411692]\n",
      "Iteration 111. Label: 2. Prediction: 1\n",
      "Prediction percentages:  [0.05297828 0.9365189  0.01050279]\n",
      "Iteration 112. Label: 2. Prediction: 2\n",
      "Prediction percentages:  [0.04229319 0.0075463  0.9501605 ]\n",
      "Iteration 113. Label: 2. Prediction: 2\n",
      "Prediction percentages:  [0.02233699 0.09024245 0.88742054]\n",
      "Iteration 114. Label: 2. Prediction: 0\n",
      "Prediction percentages:  [0.975361   0.01935939 0.00527956]\n",
      "Iteration 115. Label: 2. Prediction: 1\n",
      "Prediction percentages:  [0.07073719 0.91019034 0.01907247]\n",
      "Iteration 116. Label: 2. Prediction: 2\n",
      "Prediction percentages:  [0.14870317 0.05100185 0.800295  ]\n",
      "Iteration 117. Label: 2. Prediction: 1\n",
      "Prediction percentages:  [0.3246503  0.52922916 0.14612049]\n",
      "Iteration 118. Label: 2. Prediction: 0\n",
      "Prediction percentages:  [0.9645055  0.00816732 0.02732722]\n",
      "Iteration 119. Label: 2. Prediction: 0\n",
      "Prediction percentages:  [0.74529654 0.21049567 0.0442078 ]\n",
      "Iteration 120. Label: 2. Prediction: 0\n",
      "Prediction percentages:  [0.969354   0.02131891 0.00932708]\n",
      "Iteration 121. Label: 2. Prediction: 0\n",
      "Prediction percentages:  [0.9359772  0.03537848 0.02864429]\n",
      "Iteration 122. Label: 2. Prediction: 2\n",
      "Prediction percentages:  [1.28476685e-02 1.89749160e-04 9.86962616e-01]\n"
     ]
    }
   ],
   "source": [
    "for x in range(len(test_predictions)):\n",
    "    print('Iteration ' + str(x) + '. Label: ' + str(test_labels[x]) + '. Prediction: ' + str(test_predictions[x]))\n",
    "    print('Prediction percentages: ', test_predictions_percentages[x])"
   ]
  },
  {
   "cell_type": "code",
   "execution_count": 19,
   "id": "a3b6a196",
   "metadata": {},
   "outputs": [
    {
     "name": "stdout",
     "output_type": "stream",
     "text": [
      "The accuracy on the test set is: 0.37398373983739835\n"
     ]
    },
    {
     "data": {
      "text/plain": [
       "<sklearn.metrics._plot.confusion_matrix.ConfusionMatrixDisplay at 0x107f71520>"
      ]
     },
     "execution_count": 19,
     "metadata": {},
     "output_type": "execute_result"
    },
    {
     "data": {
      "image/png": "[encoded data removed]",
      "text/plain": [
       "<Figure size 640x480 with 2 Axes>"
      ]
     },
     "metadata": {},
     "output_type": "display_data"
    }
   ],
   "source": [
    "print('The accuracy on the test set is: ' + str(accuracy_score(test_labels, test_predictions)))\n",
    "\n",
    "# Create the confusion matrix\n",
    "confusion_mtx = confusion_matrix(test_labels, test_predictions)\n",
    "\n",
    "# Plot the confusion matrix\n",
    "disp = ConfusionMatrixDisplay(confusion_matrix=confusion_mtx, display_labels=['BigRoom', 'DrumAndBass', 'Techno'])\n",
    "\n",
    "# Plot the confusion matrix\n",
    "disp.plot()"
   ]
  },
  {
   "cell_type": "code",
   "execution_count": 20,
   "id": "ce39159d",
   "metadata": {},
   "outputs": [
    {
     "data": {
      "text/plain": [
       "dict_keys(['loss', 'acc', 'val_loss', 'val_acc'])"
      ]
     },
     "execution_count": 20,
     "metadata": {},
     "output_type": "execute_result"
    }
   ],
   "source": [
    "history.history.keys()"
   ]
  },
  {
   "cell_type": "markdown",
   "id": "886897f6",
   "metadata": {},
   "source": [
    "### SAVE AND LOAD MODEL"
   ]
  },
  {
   "cell_type": "code",
   "execution_count": 21,
   "id": "4786e8ac",
   "metadata": {},
   "outputs": [],
   "source": [
    "model.save('../models/fsm_cnn_8_epochs_80_10_10_adam_categorical_crossentropy_accuracy_rescaled_expanded.h5')"
   ]
  },
  {
   "cell_type": "code",
   "execution_count": 22,
   "id": "3ed88276",
   "metadata": {},
   "outputs": [],
   "source": [
    "# Loading in the saved model\n",
    "saved_model = load_model('../models/fsm_cnn_8_epochs_80_10_10_adam_categorical_crossentropy_accuracy_rescaled_expanded.h5')"
   ]
  },
  {
   "cell_type": "markdown",
   "id": "96c13ea1",
   "metadata": {},
   "source": [
    "# FSM 1 HAS AN ACCURACY OF 40%"
   ]
  },
  {
   "cell_type": "code",
   "execution_count": null,
   "id": "4c649df0",
   "metadata": {},
   "outputs": [],
   "source": []
  },
  {
   "cell_type": "code",
   "execution_count": null,
   "id": "10847261",
   "metadata": {},
   "outputs": [],
   "source": []
  },
  {
   "cell_type": "code",
   "execution_count": null,
   "id": "d32decaa",
   "metadata": {},
   "outputs": [],
   "source": []
  },
  {
   "cell_type": "markdown",
   "id": "8f3c824d",
   "metadata": {},
   "source": [
    "# Trying a model from\n",
    "\n",
    "https://towardsdatascience.com/cnns-for-audio-classification-6244954665ab\n"
   ]
  },
  {
   "cell_type": "code",
   "execution_count": 73,
   "id": "dcca1101",
   "metadata": {},
   "outputs": [],
   "source": [
    "# # Define the CNN model\n",
    "# model2 = Sequential([\n",
    "#     Conv2D(32, (3, 3), activation='relu', input_shape=input_shape),\n",
    "#     MaxPooling2D(pool_size=(2, 2)),\n",
    "#     Conv2D(64, (3, 3), activation='relu'),\n",
    "#     MaxPooling2D(pool_size=(2, 2)),\n",
    "#     Flatten(),\n",
    "#     Dense(128, activation='relu'),\n",
    "#     Dense(3, activation='softmax')\n",
    "# ])"
   ]
  },
  {
   "cell_type": "code",
   "execution_count": 97,
   "id": "1b85d328",
   "metadata": {},
   "outputs": [],
   "source": [
    "model2 = Sequential([Conv2D(32, (3, 3), activation='relu', input_shape=input_shape), \n",
    "                    MaxPooling2D((2, 2)),\n",
    "                    Conv2D(64, (3, 3), activation='relu'),\n",
    "                    MaxPooling2D((2, 2)),\n",
    "                    Dropout(0.25),\n",
    "                    Conv2D(64, (3, 3), activation='relu'),\n",
    "                    MaxPooling2D(pool_size=(2, 2)),\n",
    "                    Flatten(),\n",
    "                    Dense(128, activation='relu'),\n",
    "                    Dense(3, activation='softmax')])"
   ]
  },
  {
   "cell_type": "code",
   "execution_count": 98,
   "id": "7bce58cf",
   "metadata": {},
   "outputs": [],
   "source": [
    "model2.compile(# optimizer='adam',\n",
    "               optimizer=tf.keras.optimizers.Adam(learning_rate=6e-4),\n",
    "#                loss=tf.keras.losses.SparseCategoricalCrossentropy(from_logits=False),\n",
    "               loss='categorical_crossentropy',\n",
    "               metrics=['accuracy'])\n"
   ]
  },
  {
   "cell_type": "code",
   "execution_count": 99,
   "id": "fcab9895",
   "metadata": {},
   "outputs": [
    {
     "name": "stdout",
     "output_type": "stream",
     "text": [
      "Epoch 1/6\n",
      "31/31 [==============================] - 129s 4s/step - loss: 1.1392 - accuracy: 0.3409 - val_loss: 1.0983 - val_accuracy: 0.3333\n",
      "Epoch 2/6\n",
      "31/31 [==============================] - 118s 3s/step - loss: 1.0523 - accuracy: 0.4639 - val_loss: 1.0019 - val_accuracy: 0.4500\n",
      "Epoch 3/6\n",
      "31/31 [==============================] - 119s 3s/step - loss: 0.9484 - accuracy: 0.5491 - val_loss: 0.9014 - val_accuracy: 0.6500\n",
      "Epoch 4/6\n",
      "31/31 [==============================] - 122s 3s/step - loss: 0.8015 - accuracy: 0.6494 - val_loss: 0.7733 - val_accuracy: 0.6750\n",
      "Epoch 5/6\n",
      "31/31 [==============================] - 122s 3s/step - loss: 0.7228 - accuracy: 0.7087 - val_loss: 0.7591 - val_accuracy: 0.6833\n",
      "Epoch 6/6\n",
      "31/31 [==============================] - 117s 3s/step - loss: 0.6237 - accuracy: 0.7519 - val_loss: 0.5807 - val_accuracy: 0.7917\n",
      "739.8871917724609\n"
     ]
    }
   ],
   "source": [
    "start_time = time.time()\n",
    "history = model2.fit_generator(\n",
    "        train_data_gen,\n",
    "        steps_per_epoch=train_data_gen.samples // batch_size,\n",
    "        epochs=6,\n",
    "        validation_data=validation_data_gen,\n",
    "        validation_steps=validation_data_gen.samples // batch_size,\n",
    "        workers=8,\n",
    ")\n",
    "print(time.time() - start_time)"
   ]
  },
  {
   "cell_type": "code",
   "execution_count": 100,
   "id": "6fa589e1",
   "metadata": {},
   "outputs": [],
   "source": [
    "# Get the predictions for the test set\n",
    "test_predictions_percentages2 = model2.predict_generator(test_data_gen, steps=test_data_gen.samples // batch_size + 1)\n",
    "test_predictions2 = np.argmax(test_predictions_percentages2, axis=1)\n",
    "\n",
    "# Get the true labels for the test set\n",
    "test_labels = test_data_gen.classes"
   ]
  },
  {
   "cell_type": "code",
   "execution_count": 101,
   "id": "159467bc",
   "metadata": {},
   "outputs": [
    {
     "name": "stdout",
     "output_type": "stream",
     "text": [
      "The accuracy on the test set is: 0.36585365853658536\n"
     ]
    },
    {
     "data": {
      "text/plain": [
       "<sklearn.metrics._plot.confusion_matrix.ConfusionMatrixDisplay at 0x2e2b16f40>"
      ]
     },
     "execution_count": 101,
     "metadata": {},
     "output_type": "execute_result"
    },
    {
     "data": {
      "image/png": "[encoded data removed]",
      "text/plain": [
       "<Figure size 640x480 with 2 Axes>"
      ]
     },
     "metadata": {},
     "output_type": "display_data"
    }
   ],
   "source": [
    "print('The accuracy on the test set is: ' + str(accuracy_score(test_labels, test_predictions2)))\n",
    "\n",
    "# Create the confusion matrix\n",
    "confusion_mtx2 = confusion_matrix(test_labels, test_predictions2)\n",
    "\n",
    "# Plot the confusion matrix\n",
    "disp2 = ConfusionMatrixDisplay(confusion_matrix=confusion_mtx2, display_labels=['BigRoom', 'DrumAndBass', 'Techno'])\n",
    "\n",
    "# Plot the confusion matrix\n",
    "disp2.plot()"
   ]
  },
  {
   "cell_type": "code",
   "execution_count": null,
   "id": "199f7175",
   "metadata": {},
   "outputs": [],
   "source": []
  },
  {
   "cell_type": "code",
   "execution_count": null,
   "id": "c55b942b",
   "metadata": {},
   "outputs": [],
   "source": []
  },
  {
   "cell_type": "code",
   "execution_count": null,
   "id": "c413e9fc",
   "metadata": {},
   "outputs": [],
   "source": []
  },
  {
   "cell_type": "code",
   "execution_count": null,
   "id": "ce36e29e",
   "metadata": {},
   "outputs": [],
   "source": []
  },
  {
   "cell_type": "markdown",
   "id": "48347e13",
   "metadata": {},
   "source": [
    "# Plotting Loss and Other Metrics"
   ]
  },
  {
   "cell_type": "code",
   "execution_count": null,
   "id": "7811e48c",
   "metadata": {},
   "outputs": [],
   "source": [
    "history_dict=history.history\n",
    "loss_values=history_dict['loss']\n",
    "acc_values=history_dict['accuracy']\n",
    "val_loss_values = history_dict['val_loss']\n",
    "val_acc_values=history_dict['val_accuracy']\n",
    "epochs=range(1,21)\n",
    "fig,(ax1,ax2)=plt.subplots(1,2,figsize=(15,5))\n",
    "ax1.plot(epochs,loss_values,'bo',label='Training Loss')\n",
    "ax1.plot(epochs,val_loss_values,'orange', label='Validation Loss')\n",
    "ax1.set_title('Training and validation loss')\n",
    "ax1.set_xlabel('Epochs')\n",
    "ax1.set_ylabel('Loss')\n",
    "ax1.legend()\n",
    "ax2.plot(epochs,acc_values,'bo', label='Training accuracy')\n",
    "ax2.plot(epochs,val_acc_values,'orange',label='Validation accuracy')\n",
    "ax2.set_title('Training and validation accuracy')\n",
    "ax2.set_xlabel('Epochs')\n",
    "ax2.set_ylabel('Accuracy')\n",
    "ax2.legend()\n",
    "plt.show()"
   ]
  }
 ],
 "metadata": {
  "kernelspec": {
   "display_name": "Python 3 (ipykernel)",
   "language": "python",
   "name": "python3"
  },
  "language_info": {
   "codemirror_mode": {
    "name": "ipython",
    "version": 3
   },
   "file_extension": ".py",
   "mimetype": "text/x-python",
   "name": "python",
   "nbconvert_exporter": "python",
   "pygments_lexer": "ipython3",
   "version": "3.8.16"
  }
 },
 "nbformat": 4,
 "nbformat_minor": 5
}
